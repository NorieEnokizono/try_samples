{
 "cells": [
  {
   "cell_type": "code",
   "execution_count": null,
   "metadata": {},
   "outputs": [],
   "source": [
    "import glob\n",
    "import numpy as np\n",
    "from keras.preprocessing.image import load_img, img_to_array\n",
    "\n",
    "files = glob.glob('img/*.jpg')\n",
    "\n",
    "imgs = np.array([img_to_array(load_img(f)) for f in files])\n",
    "\n",
    "imgs.shape"
   ]
  },
  {
   "cell_type": "code",
   "execution_count": null,
   "metadata": {},
   "outputs": [],
   "source": [
    "import os\n",
    "\n",
    "th = 128\n",
    "\n",
    "labels = np.array([img_to_array(load_img(f\"{os.path.splitext(f)[0]}.png\", color_mode = 'grayscale')) for f in files])\n",
    "\n",
    "labels[labels < th] = 0\n",
    "labels[labels >= th] = 1\n",
    "\n",
    "labels.shape\n"
   ]
  },
  {
   "cell_type": "code",
   "execution_count": null,
   "metadata": {},
   "outputs": [],
   "source": [
    "from keras.models import Model\n",
    "from keras.layers import Input, Dropout\n",
    "from keras.layers.convolutional import Conv2D, Conv2DTranspose\n",
    "from keras.layers.pooling import MaxPool2D\n",
    "from keras.layers.normalization import BatchNormalization\n",
    "\n",
    "input = Input(shape = imgs.shape[1:])\n",
    "\n",
    "x = input\n",
    "\n",
    "x = BatchNormalization()(x)\n",
    "\n",
    "x = Conv2D(16, 3, padding='same', activation = 'relu')(x)\n",
    "x = MaxPool2D()(x)\n",
    "\n",
    "x = BatchNormalization()(x)\n",
    "x = Dropout(0.3)(x)\n",
    "\n",
    "x = Conv2D(32, 3, padding='same', activation = 'relu')(x)\n",
    "x = Conv2D(32, 3, padding='same', activation = 'relu')(x)\n",
    "x = Conv2D(32, 3, padding='same', activation = 'relu')(x)\n",
    "x = MaxPool2D()(x)\n",
    "\n",
    "x = BatchNormalization()(x)\n",
    "x = Dropout(0.3)(x)\n",
    "\n",
    "x = Conv2D(64, 3, padding='same', activation = 'relu')(x)\n",
    "x = Conv2D(64, 3, padding='same', activation = 'relu')(x)\n",
    "x = Conv2D(64, 3, padding='same', activation = 'relu')(x)\n",
    "x = MaxPool2D()(x)\n",
    "\n",
    "x = BatchNormalization()(x)\n",
    "x = Dropout(0.3)(x)\n",
    "\n",
    "x = Conv2D(128, 3, padding='same', activation = 'relu')(x)\n",
    "x = Conv2D(128, 3, padding='same', activation = 'relu')(x)\n",
    "\n",
    "x = BatchNormalization()(x)\n",
    "x = Dropout(0.3)(x)\n",
    "\n",
    "x = Conv2DTranspose(64, 3, strides = 2, padding='same', activation = 'relu')(x)\n",
    "x = Conv2D(64, 3, padding='same', activation = 'relu')(x)\n",
    "x = Conv2D(64, 3, padding='same', activation = 'relu')(x)\n",
    "x = Conv2D(64, 3, padding='same', activation = 'relu')(x)\n",
    "\n",
    "x = BatchNormalization()(x)\n",
    "x = Dropout(0.3)(x)\n",
    "\n",
    "x = Conv2DTranspose(32, 3, strides = 2, padding='same', activation = 'relu')(x)\n",
    "x = Conv2D(32, 3, padding='same', activation = 'relu')(x)\n",
    "x = Conv2D(32, 3, padding='same', activation = 'relu')(x)\n",
    "x = Conv2D(32, 3, padding='same', activation = 'relu')(x)\n",
    "\n",
    "x = BatchNormalization()(x)\n",
    "x = Dropout(0.3)(x)\n",
    "\n",
    "x = Conv2DTranspose(16, 3, strides = 2, padding='same', activation = 'relu')(x)\n",
    "x = Conv2D(16, 3, padding='same', activation = 'relu')(x)\n",
    "\n",
    "x = BatchNormalization()(x)\n",
    "x = Dropout(0.3)(x)\n",
    "\n",
    "output = Conv2D(1, 1, activation = 'sigmoid')(x)\n",
    "\n",
    "model = Model(inputs = input, outputs = output)\n",
    "\n",
    "model.compile(loss = 'mse', optimizer = 'adam', metrics = ['mae'])\n",
    "#model.compile(loss = 'binary_crossentropy', optimizer = 'adam', metrics = ['acc'])\n",
    "\n",
    "model.summary()"
   ]
  },
  {
   "cell_type": "code",
   "execution_count": null,
   "metadata": {},
   "outputs": [],
   "source": [
    "from keras.models import load_model\n",
    "\n",
    "model = load_model('model/c1_440.h5')"
   ]
  },
  {
   "cell_type": "code",
   "execution_count": null,
   "metadata": {},
   "outputs": [],
   "source": [
    "hist = model.fit(imgs, labels, initial_epoch = 440, epochs = 480, batch_size = 10)\n",
    "\n",
    "hist"
   ]
  },
  {
   "cell_type": "code",
   "execution_count": null,
   "metadata": {},
   "outputs": [],
   "source": [
    "%matplotlib inline\n",
    "\n",
    "import matplotlib.pyplot as plt\n",
    "\n",
    "plt.rcParams['figure.figsize'] = (8, 4)\n",
    "\n",
    "plt.subplot(1, 2, 1)\n",
    "plt.plot(hist.history['loss'])\n",
    "\n",
    "plt.subplot(1, 2, 2)\n",
    "plt.plot(hist.history['mean_absolute_error'])\n",
    "#plt.plot(hist.history['acc'])\n"
   ]
  },
  {
   "cell_type": "code",
   "execution_count": null,
   "metadata": {},
   "outputs": [],
   "source": [
    "model.save('model/c1_480.h5')"
   ]
  },
  {
   "cell_type": "code",
   "execution_count": null,
   "metadata": {},
   "outputs": [],
   "source": [
    "def predict(index, s = 6.0):\n",
    "    plt.rcParams['figure.figsize'] = (s, s)\n",
    "\n",
    "    sh = imgs.shape[1:-1]\n",
    "    \n",
    "    pred = model.predict(np.array([imgs[index]]))[0]\n",
    "    pred *= 255\n",
    "\n",
    "    plt.subplot(1, 3, 1)\n",
    "    plt.imshow(imgs[index].astype(int))\n",
    "\n",
    "    plt.subplot(1, 3, 2)\n",
    "    plt.imshow(labels[index].reshape(sh), cmap = 'gray')\n",
    "\n",
    "    plt.subplot(1, 3, 3)\n",
    "    plt.imshow(pred.reshape(sh).astype(int), cmap = 'gray')\n",
    "    "
   ]
  },
  {
   "cell_type": "code",
   "execution_count": null,
   "metadata": {},
   "outputs": [],
   "source": [
    "def predict_eval(file, s = 4.0):\n",
    "    plt.rcParams['figure.figsize'] = (s, s)\n",
    "\n",
    "    img = img_to_array(load_img(file))\n",
    "    \n",
    "    pred = model.predict(np.array([img]))[0]\n",
    "    pred *= 255\n",
    "\n",
    "    plt.subplot(1, 2, 1)\n",
    "    plt.imshow(img.astype(int))\n",
    "\n",
    "    plt.subplot(1, 2, 2)\n",
    "    plt.imshow(pred.reshape(pred.shape[:-1]).astype(int), cmap = 'gray')"
   ]
  },
  {
   "cell_type": "code",
   "execution_count": null,
   "metadata": {},
   "outputs": [],
   "source": [
    "predict(5)"
   ]
  },
  {
   "cell_type": "code",
   "execution_count": null,
   "metadata": {},
   "outputs": [],
   "source": [
    "predict(15)"
   ]
  },
  {
   "cell_type": "code",
   "execution_count": null,
   "metadata": {},
   "outputs": [],
   "source": [
    "predict(46)"
   ]
  },
  {
   "cell_type": "code",
   "execution_count": null,
   "metadata": {},
   "outputs": [],
   "source": [
    "predict(80)"
   ]
  },
  {
   "cell_type": "code",
   "execution_count": null,
   "metadata": {},
   "outputs": [],
   "source": [
    "predict_eval('img_eval/t01.jpg')"
   ]
  },
  {
   "cell_type": "code",
   "execution_count": null,
   "metadata": {},
   "outputs": [],
   "source": [
    "predict_eval('img_eval/t03.jpg')"
   ]
  },
  {
   "cell_type": "code",
   "execution_count": null,
   "metadata": {},
   "outputs": [],
   "source": [
    "predict_eval('img_eval/t04.jpg')"
   ]
  },
  {
   "cell_type": "code",
   "execution_count": null,
   "metadata": {},
   "outputs": [],
   "source": [
    "predict_eval('img_eval/t05.jpg')"
   ]
  }
 ],
 "metadata": {
  "kernelspec": {
   "display_name": "Python 3",
   "language": "python",
   "name": "python3"
  },
  "language_info": {
   "codemirror_mode": {
    "name": "ipython",
    "version": 3
   },
   "file_extension": ".py",
   "mimetype": "text/x-python",
   "name": "python",
   "nbconvert_exporter": "python",
   "pygments_lexer": "ipython3",
   "version": "3.6.5"
  }
 },
 "nbformat": 4,
 "nbformat_minor": 2
}
