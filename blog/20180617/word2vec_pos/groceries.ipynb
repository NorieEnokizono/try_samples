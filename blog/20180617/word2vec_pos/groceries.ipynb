{
 "cells": [
  {
   "cell_type": "code",
   "execution_count": 1,
   "metadata": {},
   "outputs": [
   ],
   "source": [
    "from gensim.models import word2vec\n",
    "\n",
    "sentences = word2vec.LineSentence('groceries.txt')"
   ]
  },
  {
   "cell_type": "code",
   "execution_count": 2,
   "metadata": {},
   "outputs": [],
   "source": [
    "model = word2vec.Word2Vec(sentences, iter = 500, min_count = 1)"
   ]
  },
  {
   "cell_type": "code",
   "execution_count": 3,
   "metadata": {},
   "outputs": [
    {
     "data": {
      "text/plain": [
       "[('turkey', 0.5547687411308289),\n",
       " ('ham', 0.49448296427726746),\n",
       " ('pip_fruit', 0.46879759430885315),\n",
       " ('tropical_fruit', 0.4383287727832794),\n",
       " ('butter', 0.43373265862464905),\n",
       " ('frankfurter', 0.4334157109260559),\n",
       " ('root_vegetables', 0.4249211549758911),\n",
       " ('citrus_fruit', 0.4246293306350708),\n",
       " ('chicken', 0.42378148436546326),\n",
       " ('sausage', 0.41153857111930847)]"
      ]
     },
     "execution_count": 3,
     "metadata": {},
     "output_type": "execute_result"
    }
   ],
   "source": [
    "model.wv.most_similar(['pork'])"
   ]
  },
  {
   "cell_type": "code",
   "execution_count": 4,
   "metadata": {},
   "outputs": [
    {
     "data": {
      "text/plain": [
       "[('pip_fruit', 0.5338480472564697),\n",
       " ('chicken', 0.5199225544929504),\n",
       " ('citrus_fruit', 0.4966673254966736),\n",
       " ('whipped/sour_cream', 0.47635287046432495),\n",
       " ('meat', 0.46787431836128235),\n",
       " ('curd', 0.46770867705345154),\n",
       " ('onions', 0.4644170105457306),\n",
       " ('sausage', 0.45907285809516907),\n",
       " ('tropical_fruit', 0.4336831569671631),\n",
       " ('whole_milk', 0.4250752627849579)]"
      ]
     },
     "execution_count": 4,
     "metadata": {},
     "output_type": "execute_result"
    }
   ],
   "source": [
    "model.wv.most_similar('beef')"
   ]
  },
  {
   "cell_type": "code",
   "execution_count": 5,
   "metadata": {},
   "outputs": [
    {
     "data": {
      "text/plain": [
       "[('liquor', 0.22384332),\n",
       " ('prosecco', 0.04933687),\n",
       " ('sparkling_wine', 0.0345262),\n",
       " ('white_wine', 0.024850508),\n",
       " ('liquor_(appetizer)', 0.023338959),\n",
       " ('tidbits', 0.021622568),\n",
       " ('rum', 0.01992436),\n",
       " ('baby_food', 0.015693987),\n",
       " ('house_keeping_products', 0.015246705),\n",
       " ('tea', 0.014245467)]"
      ]
     },
     "execution_count": 5,
     "metadata": {},
     "output_type": "execute_result"
    }
   ],
   "source": [
    "model.predict_output_word(['bottled_beer', 'red/blush_wine'])"
   ]
  },
  {
   "cell_type": "code",
   "execution_count": 6,
   "metadata": {},
   "outputs": [
    {
     "data": {
      "text/plain": [
       "[('Instant_food_products', 0.054281656),\n",
       " ('canned_vegetables', 0.029985178),\n",
       " ('pasta', 0.025487985),\n",
       " ('sweet_spreads', 0.025283454),\n",
       " ('meat_spreads', 0.022208596),\n",
       " ('bathroom_cleaner', 0.021768838),\n",
       " ('sauces', 0.016184878),\n",
       " ('potato_products', 0.016023112),\n",
       " ('rum', 0.015607255),\n",
       " ('softener', 0.015018263)]"
      ]
     },
     "execution_count": 6,
     "metadata": {},
     "output_type": "execute_result"
    }
   ],
   "source": [
    "model.predict_output_word(['hamburger_meat', 'soda'])"
   ]
  },
  {
   "cell_type": "code",
   "execution_count": 7,
   "metadata": {},
   "outputs": [
    {
     "data": {
      "text/plain": [
       "[('processed_cheese', 0.20990367),\n",
       " ('sweet_spreads', 0.024131883),\n",
       " ('spread_cheese', 0.023222428),\n",
       " ('hard_cheese', 0.020685839),\n",
       " ('honey', 0.017153246),\n",
       " ('frozen_potato_products', 0.016769795),\n",
       " ('hair_spray', 0.016084857),\n",
       " ('condensed_milk', 0.016035773),\n",
       " ('soft_cheese', 0.014342537),\n",
       " ('dessert', 0.014085873)]"
      ]
     },
     "execution_count": 7,
     "metadata": {},
     "output_type": "execute_result"
    }
   ],
   "source": [
    "model.predict_output_word(['ham', 'white_bread'])"
   ]
  },
  {
   "cell_type": "code",
   "execution_count": 8,
   "metadata": {},
   "outputs": [
    {
     "data": {
      "text/plain": [
       "[('herbs', 0.024541182),\n",
       " ('liver_loaf', 0.019327056),\n",
       " ('turkey', 0.01775743),\n",
       " ('onions', 0.01760579),\n",
       " ('specialty_cheese', 0.014991459),\n",
       " ('packaged_fruit/vegetables', 0.014529809),\n",
       " ('spread_cheese', 0.012931713),\n",
       " ('meat', 0.012434797),\n",
       " ('beef', 0.011924307),\n",
       " ('butter_milk', 0.011828974)]"
      ]
     },
     "execution_count": 8,
     "metadata": {},
     "output_type": "execute_result"
    }
   ],
   "source": [
    "model.predict_output_word(['root_vegetables', 'other_vegetables', 'whole_milk', 'yogurt'])"
   ]
  },
  {
   "cell_type": "code",
   "execution_count": 9,
   "metadata": {},
   "outputs": [
    {
     "data": {
      "text/plain": [
       "[('flour', 0.076272935),\n",
       " ('pudding_powder', 0.055790607),\n",
       " ('baking_powder', 0.026003197),\n",
       " ('cereals', 0.021788204),\n",
       " ('cream', 0.017001987),\n",
       " ('jam', 0.014941054),\n",
       " ('organic_products', 0.014818382),\n",
       " ('curd_cheese', 0.014737139),\n",
       " ('frozen_dessert', 0.013503349),\n",
       " ('tidbits', 0.013300725)]"
      ]
     },
     "execution_count": 9,
     "metadata": {},
     "output_type": "execute_result"
    }
   ],
   "source": [
    "model.predict_output_word(['curd', 'sugar'])"
   ]
  },
  {
   "cell_type": "code",
   "execution_count": 10,
   "metadata": {},
   "outputs": [
    {
     "data": {
      "text/plain": [
       "[('popcorn', 0.05830234),\n",
       " ('nut_snack', 0.046429735),\n",
       " ('chewing_gum', 0.0213278),\n",
       " ('kitchen_towels', 0.019580541),\n",
       " ('cake_bar', 0.018023761),\n",
       " ('prosecco', 0.016160522),\n",
       " ('make_up_remover', 0.0150430715),\n",
       " ('frozen_chicken', 0.01499828),\n",
       " ('tidbits', 0.014298808),\n",
       " ('canned_vegetables', 0.014091631)]"
      ]
     },
     "execution_count": 10,
     "metadata": {},
     "output_type": "execute_result"
    }
   ],
   "source": [
    "model.predict_output_word(['soda', 'salty_snack'])"
   ]
  },
  {
   "cell_type": "code",
   "execution_count": 11,
   "metadata": {},
   "outputs": [
    {
     "data": {
      "text/plain": [
       "[('flour', 0.11954326),\n",
       " ('cooking_chocolate', 0.046284538),\n",
       " ('pudding_powder', 0.03714784),\n",
       " ('vinegar', 0.029273923),\n",
       " ('rice', 0.028818287),\n",
       " ('salt', 0.02470855),\n",
       " ('cocoa_drinks', 0.024143243),\n",
       " ('liqueur', 0.021240951),\n",
       " ('specialty_fat', 0.019339766),\n",
       " ('meat_spreads', 0.018915236)]"
      ]
     },
     "execution_count": 11,
     "metadata": {},
     "output_type": "execute_result"
    }
   ],
   "source": [
    "model.predict_output_word(['sugar', 'baking_powder'])"
   ]
  },
  {
   "cell_type": "code",
   "execution_count": 12,
   "metadata": {},
   "outputs": [
    {
     "name": "stdout",
     "output_type": "stream",
     "text": [
      "-0.005118543658904618\n",
      "0.020952063557078016\n",
      "0.11583180970518396\n"
     ]
    }
   ],
   "source": [
    "print( model.wv.similarity('bottled_beer', 'red/blush_wine') )\n",
    "print( model.wv.similarity('bottled_beer', 'liquor') )\n",
    "print( model.wv.similarity('red/blush_wine', 'liquor') )"
   ]
  },
  {
   "cell_type": "code",
   "execution_count": 13,
   "metadata": {},
   "outputs": [
    {
     "name": "stdout",
     "output_type": "stream",
     "text": [
      "-0.13100304145445874\n",
      "-0.2033228128994272\n",
      "0.03914292732245933\n"
     ]
    }
   ],
   "source": [
    "print( model.wv.similarity('hamburger_meat', 'soda') )\n",
    "print( model.wv.similarity('hamburger_meat', 'Instant_food_products') )\n",
    "print( model.wv.similarity('soda', 'Instant_food_products') )"
   ]
  },
  {
   "cell_type": "code",
   "execution_count": 14,
   "metadata": {},
   "outputs": [
    {
     "name": "stdout",
     "output_type": "stream",
     "text": [
      "0.11314414615219766\n",
      "0.11970613254290825\n",
      "-0.15694054499998372\n"
     ]
    }
   ],
   "source": [
    "print( model.wv.similarity('ham', 'white_bread') )\n",
    "print( model.wv.similarity('ham', 'processed_cheese') )\n",
    "print( model.wv.similarity('white_bread', 'processed_cheese') )"
   ]
  },
  {
   "cell_type": "code",
   "execution_count": 15,
   "metadata": {},
   "outputs": [],
   "source": [
    "from collections import Counter\n",
    "import itertools\n",
    "\n",
    "tri_counter = Counter([c for ws in sentences for c in itertools.combinations(sorted(ws), 3)])"
   ]
  },
  {
   "cell_type": "code",
   "execution_count": 16,
   "metadata": {},
   "outputs": [
    {
     "data": {
      "text/plain": [
       "[(('bottled_beer', 'red/blush_wine'), 'liquor', 0.22384332),\n",
       " (('white_bread', 'ham'), 'processed_cheese', 0.20990367),\n",
       " (('bottled_beer', 'liquor'), 'red/blush_wine', 0.16274776),\n",
       " (('sugar', 'baking_powder'), 'flour', 0.11954326),\n",
       " (('curd', 'sugar'), 'flour', 0.076272935),\n",
       " (('margarine', 'sugar'), 'flour', 0.07422828),\n",
       " (('flour', 'sugar'), 'baking_powder', 0.07345509),\n",
       " (('sugar', 'whipped/sour_cream'), 'flour', 0.072731614),\n",
       " (('rolls/buns', 'hamburger_meat'), 'Instant_food_products', 0.06818052),\n",
       " (('sugar', 'root_vegetables'), 'flour', 0.0641469),\n",
       " (('tropical_fruit', 'white_bread'), 'processed_cheese', 0.061861355),\n",
       " (('soda', 'ham'), 'processed_cheese', 0.06138085),\n",
       " (('white_bread', 'processed_cheese'), 'ham', 0.061199907),\n",
       " (('whole_milk', 'ham'), 'processed_cheese', 0.059773713),\n",
       " (('beef', 'root_vegetables'), 'herbs', 0.059243686),\n",
       " (('sugar', 'whipped/sour_cream'), 'baking_powder', 0.05871357),\n",
       " (('soda', 'salty_snack'), 'popcorn', 0.05830234),\n",
       " (('soda', 'popcorn'), 'salty_snack', 0.05819882),\n",
       " (('red/blush_wine', 'liquor'), 'bottled_beer', 0.057226427),\n",
       " (('flour', 'baking_powder'), 'sugar', 0.05517209),\n",
       " (('soda', 'hamburger_meat'), 'Instant_food_products', 0.054281656),\n",
       " (('processed_cheese', 'ham'), 'white_bread', 0.053193364),\n",
       " (('other_vegetables', 'ham'), 'processed_cheese', 0.052585844)]"
      ]
     },
     "execution_count": 16,
     "metadata": {},
     "output_type": "execute_result"
    }
   ],
   "source": [
    "pairs = itertools.combinations(model.wv.vocab.keys(), 2)\n",
    "\n",
    "sorted([\n",
    "    (p, item, prob) for p in pairs for item, prob in model.predict_output_word(p)\n",
    "    if prob >= 0.05 and tri_counter[tuple(sorted([p[0], p[1], item]))] >= 10\n",
    "], key = lambda x: -x[2])\n"
   ]
  }
 ],
 "metadata": {
  "kernelspec": {
   "display_name": "Python 3",
   "language": "python",
   "name": "python3"
  },
  "language_info": {
   "codemirror_mode": {
    "name": "ipython",
    "version": 3
   },
   "file_extension": ".py",
   "mimetype": "text/x-python",
   "name": "python",
   "nbconvert_exporter": "python",
   "pygments_lexer": "ipython3",
   "version": "3.6.4"
  }
 },
 "nbformat": 4,
 "nbformat_minor": 2
}
