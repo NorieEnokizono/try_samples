{
 "cells": [
  {
   "cell_type": "code",
   "execution_count": 1,
   "metadata": {},
   "outputs": [
   ],
   "source": [
    "from gensim.models import word2vec\n",
    "\n",
    "sentences = word2vec.LineSentence('groceries.txt')"
   ]
  },
  {
   "cell_type": "code",
   "execution_count": 2,
   "metadata": {},
   "outputs": [],
   "source": [
    "model = word2vec.Word2Vec(sentences, iter = 500, min_count = 1, sg = 1)"
   ]
  },
  {
   "cell_type": "code",
   "execution_count": 3,
   "metadata": {},
   "outputs": [
    {
     "data": {
      "text/plain": [
       "[('onions', 0.35001248121261597),\n",
       " ('turkey', 0.34213584661483765),\n",
       " ('yogurt', 0.3391532003879547),\n",
       " ('butter', 0.32306376099586487),\n",
       " ('sausage', 0.3135703206062317),\n",
       " ('chicken', 0.3089650571346283),\n",
       " ('beef', 0.30136048793792725),\n",
       " ('curd', 0.2895019054412842),\n",
       " ('citrus_fruit', 0.2771354913711548),\n",
       " ('root_vegetables', 0.27564483880996704)]"
      ]
     },
     "execution_count": 3,
     "metadata": {},
     "output_type": "execute_result"
    }
   ],
   "source": [
    "model.wv.most_similar(['pork'])"
   ]
  },
  {
   "cell_type": "code",
   "execution_count": 4,
   "metadata": {},
   "outputs": [
    {
     "data": {
      "text/plain": [
       "[('butter', 0.4024900794029236),\n",
       " ('onions', 0.3838678002357483),\n",
       " ('pip_fruit', 0.37157630920410156),\n",
       " ('meat', 0.33756184577941895),\n",
       " ('other_vegetables', 0.32065755128860474),\n",
       " ('chicken', 0.316648006439209),\n",
       " ('tropical_fruit', 0.3147188425064087),\n",
       " ('yogurt', 0.3107911944389343),\n",
       " ('whole_milk', 0.30543917417526245),\n",
       " ('pork', 0.301360547542572)]"
      ]
     },
     "execution_count": 4,
     "metadata": {},
     "output_type": "execute_result"
    }
   ],
   "source": [
    "model.wv.most_similar('beef')"
   ]
  },
  {
   "cell_type": "code",
   "execution_count": 5,
   "metadata": {},
   "outputs": [
    {
     "data": {
      "text/plain": [
       "[('liquor', 0.076620705),\n",
       " ('prosecco', 0.030791236),\n",
       " ('liquor_(appetizer)', 0.027123762),\n",
       " ('sparkling_wine', 0.02171228),\n",
       " ('tea', 0.019144028),\n",
       " ('rum', 0.018046917),\n",
       " ('brandy', 0.017771726),\n",
       " ('white_wine', 0.015121205),\n",
       " ('nut_snack', 0.014966749),\n",
       " ('canned_fish', 0.014825281)]"
      ]
     },
     "execution_count": 5,
     "metadata": {},
     "output_type": "execute_result"
    }
   ],
   "source": [
    "model.predict_output_word(['bottled_beer', 'red/blush_wine'])"
   ]
  },
  {
   "cell_type": "code",
   "execution_count": 6,
   "metadata": {},
   "outputs": [
    {
     "data": {
      "text/plain": [
       "[('Instant_food_products', 0.022627866),\n",
       " ('pasta', 0.018009944),\n",
       " ('canned_vegetables', 0.01685342),\n",
       " ('mayonnaise', 0.015356236),\n",
       " ('meat_spreads', 0.015302317),\n",
       " ('sweet_spreads', 0.0151319755),\n",
       " ('sauces', 0.013697033),\n",
       " ('spread_cheese', 0.012117581),\n",
       " ('dish_cleaner', 0.011641624),\n",
       " ('frozen_potato_products', 0.011515584)]"
      ]
     },
     "execution_count": 6,
     "metadata": {},
     "output_type": "execute_result"
    }
   ],
   "source": [
    "model.predict_output_word(['hamburger_meat', 'soda'])"
   ]
  },
  {
   "cell_type": "code",
   "execution_count": 7,
   "metadata": {},
   "outputs": [
    {
     "data": {
      "text/plain": [
       "[('processed_cheese', 0.039820198),\n",
       " ('frozen_potato_products', 0.019321121),\n",
       " ('sweet_spreads', 0.018111335),\n",
       " ('spread_cheese', 0.01726797),\n",
       " ('potato_products', 0.016594684),\n",
       " ('soft_cheese', 0.014807216),\n",
       " ('hard_cheese', 0.014403561),\n",
       " ('specialty_cheese', 0.013614273),\n",
       " ('sound_storage_medium', 0.013440796),\n",
       " ('condensed_milk', 0.01304468)]"
      ]
     },
     "execution_count": 7,
     "metadata": {},
     "output_type": "execute_result"
    }
   ],
   "source": [
    "model.predict_output_word(['ham', 'white_bread'])"
   ]
  },
  {
   "cell_type": "code",
   "execution_count": 8,
   "metadata": {},
   "outputs": [
    {
     "data": {
      "text/plain": [
       "[('herbs', 0.015105391),\n",
       " ('turkey', 0.014365919),\n",
       " ('rice', 0.01316431),\n",
       " ('frozen_fish', 0.0130173275),\n",
       " ('specialty_cheese', 0.012956117),\n",
       " ('mayonnaise', 0.012815042),\n",
       " ('roll_products_', 0.0125050405),\n",
       " ('soft_cheese', 0.012039127),\n",
       " ('packaged_fruit/vegetables', 0.011681836),\n",
       " ('onions', 0.010940962)]"
      ]
     },
     "execution_count": 8,
     "metadata": {},
     "output_type": "execute_result"
    }
   ],
   "source": [
    "model.predict_output_word(['root_vegetables', 'other_vegetables', 'whole_milk', 'yogurt'])"
   ]
  },
  {
   "cell_type": "code",
   "execution_count": 9,
   "metadata": {},
   "outputs": [
    {
     "data": {
      "text/plain": [
       "[('flour', 0.025570681),\n",
       " ('pudding_powder', 0.02354227),\n",
       " ('roll_products_', 0.01748644),\n",
       " ('cereals', 0.015268401),\n",
       " ('baking_powder', 0.015201763),\n",
       " ('salt', 0.014872063),\n",
       " ('frozen_dessert', 0.014219358),\n",
       " ('rice', 0.013953114),\n",
       " ('curd_cheese', 0.013767071),\n",
       " ('jam', 0.013077002)]"
      ]
     },
     "execution_count": 9,
     "metadata": {},
     "output_type": "execute_result"
    }
   ],
   "source": [
    "model.predict_output_word(['curd', 'sugar'])"
   ]
  },
  {
   "cell_type": "code",
   "execution_count": 10,
   "metadata": {},
   "outputs": [
    {
     "data": {
      "text/plain": [
       "[('popcorn', 0.02322538),\n",
       " ('nut_snack', 0.019715898),\n",
       " ('make_up_remover', 0.013758556),\n",
       " ('cake_bar', 0.013404904),\n",
       " ('canned_vegetables', 0.012790451),\n",
       " ('instant_coffee', 0.012667293),\n",
       " ('kitchen_towels', 0.012493766),\n",
       " ('tidbits', 0.011753058),\n",
       " ('sweet_spreads', 0.011741863),\n",
       " ('Instant_food_products', 0.011501943)]"
      ]
     },
     "execution_count": 10,
     "metadata": {},
     "output_type": "execute_result"
    }
   ],
   "source": [
    "model.predict_output_word(['soda', 'salty_snack'])"
   ]
  },
  {
   "cell_type": "code",
   "execution_count": 11,
   "metadata": {},
   "outputs": [
    {
     "data": {
      "text/plain": [
       "[('flour', 0.030803043),\n",
       " ('pudding_powder', 0.026207035),\n",
       " ('rice', 0.022308681),\n",
       " ('vinegar', 0.01965483),\n",
       " ('specialty_fat', 0.01958772),\n",
       " ('soups', 0.017477596),\n",
       " ('cocoa_drinks', 0.016962666),\n",
       " ('cooking_chocolate', 0.01643515),\n",
       " ('meat_spreads', 0.015689712),\n",
       " ('salt', 0.0156014785)]"
      ]
     },
     "execution_count": 11,
     "metadata": {},
     "output_type": "execute_result"
    }
   ],
   "source": [
    "model.predict_output_word(['sugar', 'baking_powder'])"
   ]
  },
  {
   "cell_type": "code",
   "execution_count": 12,
   "metadata": {},
   "outputs": [],
   "source": [
    "from collections import Counter\n",
    "import itertools\n",
    "\n",
    "tri_counter = Counter([c for ws in sentences for c in itertools.combinations(sorted(ws), 3)])"
   ]
  },
  {
   "cell_type": "code",
   "execution_count": 13,
   "metadata": {},
   "outputs": [
    {
     "data": {
      "text/plain": [
       "[(('bottled_beer', 'red/blush_wine'), 'liquor', 0.076620705),\n",
       " (('bottled_beer', 'liquor'), 'red/blush_wine', 0.0712179),\n",
       " (('white_bread', 'ham'), 'processed_cheese', 0.039820198),\n",
       " (('red/blush_wine', 'liquor'), 'bottled_beer', 0.031292748),\n",
       " (('sugar', 'baking_powder'), 'flour', 0.030803043),\n",
       " (('sugar', 'whipped/sour_cream'), 'flour', 0.029322423),\n",
       " (('margarine', 'sugar'), 'flour', 0.027827),\n",
       " (('beef', 'root_vegetables'), 'herbs', 0.02740662),\n",
       " (('curd', 'sugar'), 'flour', 0.025570681),\n",
       " (('flour', 'sugar'), 'baking_powder', 0.025403246),\n",
       " (('tropical_fruit', 'root_vegetables'), 'turkey', 0.025329975),\n",
       " (('whole_milk', 'ham'), 'processed_cheese', 0.024535457),\n",
       " (('rolls/buns', 'hamburger_meat'), 'Instant_food_products', 0.02427808),\n",
       " (('flour', 'baking_powder'), 'sugar', 0.023779714),\n",
       " (('tropical_fruit', 'white_bread'), 'processed_cheese', 0.023528077),\n",
       " (('sugar', 'root_vegetables'), 'flour', 0.023394365),\n",
       " (('soda', 'salty_snack'), 'popcorn', 0.02322538),\n",
       " (('whole_milk', 'sugar'), 'flour', 0.023202542),\n",
       " (('fruit/vegetable_juice', 'ham'), 'processed_cheese', 0.023127634),\n",
       " (('butter', 'root_vegetables'), 'herbs', 0.02304014),\n",
       " (('soda', 'ham'), 'processed_cheese', 0.022633638),\n",
       " (('soda', 'hamburger_meat'), 'Instant_food_products', 0.022627866),\n",
       " (('citrus_fruit', 'sugar'), 'flour', 0.022040429),\n",
       " (('bottled_beer', 'soda'), 'liquor', 0.02189085),\n",
       " (('processed_cheese', 'ham'), 'white_bread', 0.021692872),\n",
       " (('yogurt', 'sugar'), 'flour', 0.021522585),\n",
       " (('tropical_fruit', 'other_vegetables'), 'turkey', 0.021456005),\n",
       " (('other_vegetables', 'beef'), 'herbs', 0.021407435),\n",
       " (('white_bread', 'processed_cheese'), 'ham', 0.021362728),\n",
       " (('curd', 'root_vegetables'), 'herbs', 0.021005861),\n",
       " (('other_vegetables', 'ham'), 'processed_cheese', 0.020965746),\n",
       " (('root_vegetables', 'whipped/sour_cream'), 'herbs', 0.020788824),\n",
       " (('other_vegetables', 'root_vegetables'), 'herbs', 0.020782541),\n",
       " (('sugar', 'whipped/sour_cream'), 'baking_powder', 0.02058014),\n",
       " (('whole_milk', 'sugar'), 'rice', 0.020371588),\n",
       " (('root_vegetables', 'frozen_vegetables'), 'herbs', 0.02027719),\n",
       " (('whole_milk', 'Instant_food_products'), 'hamburger_meat', 0.020258738),\n",
       " (('citrus_fruit', 'root_vegetables'), 'herbs', 0.020241175)]"
      ]
     },
     "execution_count": 13,
     "metadata": {},
     "output_type": "execute_result"
    }
   ],
   "source": [
    "pairs = itertools.combinations(model.wv.vocab.keys(), 2)\n",
    "\n",
    "sorted([\n",
    "    (p, item, prob) for p in pairs for item, prob in model.predict_output_word(p)\n",
    "    if prob >= 0.02 and tri_counter[tuple(sorted([p[0], p[1], item]))] >= 10\n",
    "], key = lambda x: -x[2])\n"
   ]
  }
 ],
 "metadata": {
  "kernelspec": {
   "display_name": "Python 3",
   "language": "python",
   "name": "python3"
  },
  "language_info": {
   "codemirror_mode": {
    "name": "ipython",
    "version": 3
   },
   "file_extension": ".py",
   "mimetype": "text/x-python",
   "name": "python",
   "nbconvert_exporter": "python",
   "pygments_lexer": "ipython3",
   "version": "3.6.4"
  }
 },
 "nbformat": 4,
 "nbformat_minor": 2
}
