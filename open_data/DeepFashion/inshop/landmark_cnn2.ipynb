{
 "cells": [
  {
   "cell_type": "code",
   "execution_count": null,
   "metadata": {},
   "outputs": [],
   "source": [
    "import pandas as pd\n",
    "\n",
    "df = pd.read_table('list_landmarks_inshop.txt', sep = '\\s+', skiprows = 1)\n",
    "\n",
    "df"
   ]
  },
  {
   "cell_type": "code",
   "execution_count": null,
   "metadata": {},
   "outputs": [],
   "source": [
    "s = 100\n",
    "\n",
    "dfa = df[(df['clothes_type'] == 1) & (df['variation_type'] == 1) &\n",
    "         (df['landmark_visibility_1'] == 0) & (df['landmark_visibility_2'] == 0) & \n",
    "         (df['landmark_visibility_3'] == 0) & (df['landmark_visibility_4'] == 0) &\n",
    "         (df['landmark_visibility_5'] == 0) & (df['landmark_visibility_6'] == 0)][:s]\n",
    "\n",
    "dfa"
   ]
  },
  {
   "cell_type": "code",
   "execution_count": null,
   "metadata": {},
   "outputs": [],
   "source": [
    "import numpy as np\n",
    "from keras.preprocessing.image import load_img, img_to_array\n",
    "\n",
    "imgs = np.array([ img_to_array(load_img(f)) for f in dfa['image_name']])\n",
    "\n",
    "imgs.shape"
   ]
  },
  {
   "cell_type": "code",
   "execution_count": null,
   "metadata": {},
   "outputs": [],
   "source": [
    "cols = [f'landmark_location_{t}_{i + 1}' for i in range(6) for t in ['x', 'y'] ]\n",
    "cols"
   ]
  },
  {
   "cell_type": "code",
   "execution_count": null,
   "metadata": {},
   "outputs": [],
   "source": [
    "dv = dfa[cols]\n",
    "\n",
    "labels_t = dv.values.astype(int)\n",
    "labels_t.shape"
   ]
  },
  {
   "cell_type": "code",
   "execution_count": null,
   "metadata": {},
   "outputs": [],
   "source": [
    "def gen_labels(prob, around_func):\n",
    "    res = np.zeros(imgs.shape[:-1] + (int(len(cols) / 2) + 1,))\n",
    "    res[:, :, :, 0] = 1.0\n",
    "    \n",
    "    for i in range(len(res)):\n",
    "        r = res[i]\n",
    "        \n",
    "        for j in range(0, len(labels_t[i]), 2):\n",
    "            x = labels_t[i, j]\n",
    "            y = labels_t[i, j + 1]\n",
    "            c = int(j / 2) + 1\n",
    "            \n",
    "            for k in range(len(prob)):\n",
    "                p = prob[k]\n",
    "                \n",
    "                for a in around_func(k):\n",
    "                    ax = x + a[0]\n",
    "                    ay = y + a[1]\n",
    "                    \n",
    "                    if ax >= 0 and ax < imgs.shape[2] and ay >= 0 and ay < imgs.shape[1]:\n",
    "                        r[ay, ax, :] = 0.0\n",
    "                        r[ay, ax, c] = p\n",
    "                        r[ay, ax, 0] = 1.0 - p\n",
    "    \n",
    "    return res\n",
    "    "
   ]
  },
  {
   "cell_type": "code",
   "execution_count": null,
   "metadata": {},
   "outputs": [],
   "source": [
    "def around_square(n):\n",
    "    return [(x, y) for x in range(-n, n + 1) for y in range(-n, n + 1) if abs(x) == n or abs(y) == n]\n",
    "\n",
    "labels = gen_labels([1.0, 1.0, 1.0, 0.8, 0.8, 0.7, 0.7, 0.6, 0.6, 0.5], around_square)\n",
    "\n",
    "labels.shape"
   ]
  },
  {
   "cell_type": "code",
   "execution_count": null,
   "metadata": {},
   "outputs": [],
   "source": [
    "labels_t[0]"
   ]
  },
  {
   "cell_type": "code",
   "execution_count": null,
   "metadata": {},
   "outputs": [],
   "source": [
    "labels[0, 59, 100:130]"
   ]
  },
  {
   "cell_type": "code",
   "execution_count": null,
   "metadata": {},
   "outputs": [],
   "source": [
    "%matplotlib inline\n",
    "\n",
    "import matplotlib.pyplot as plt\n",
    "\n",
    "def imshow_label(index):\n",
    "    plt.imshow(labels[index, :, :, 1:].sum(axis = -1), cmap = 'gray')\n"
   ]
  },
  {
   "cell_type": "code",
   "execution_count": null,
   "metadata": {},
   "outputs": [],
   "source": [
    "imshow_label(0)"
   ]
  },
  {
   "cell_type": "code",
   "execution_count": null,
   "metadata": {},
   "outputs": [],
   "source": [
    "imshow_label(1)"
   ]
  },
  {
   "cell_type": "code",
   "execution_count": null,
   "metadata": {},
   "outputs": [],
   "source": [
    "from keras.models import Model\n",
    "from keras.layers import Input, Dense, Flatten, Dropout, UpSampling2D\n",
    "from keras.layers.convolutional import Conv2D, Conv2DTranspose\n",
    "from keras.layers.pooling import MaxPool2D\n",
    "from keras.layers.normalization import BatchNormalization\n",
    "\n",
    "input = Input(shape = imgs.shape[1:])\n",
    "\n",
    "x = input\n",
    "\n",
    "x = BatchNormalization()(x)\n",
    "\n",
    "x = Conv2D(16, 3, padding='same', activation = 'relu')(x)\n",
    "x = Conv2D(16, 3, padding='same', activation = 'relu')(x)\n",
    "x = MaxPool2D()(x)\n",
    "\n",
    "x = BatchNormalization()(x)\n",
    "x = Dropout(0.3)(x)\n",
    "\n",
    "x = Conv2D(32, 3, padding='same', activation = 'relu')(x)\n",
    "x = Conv2D(32, 3, padding='same', activation = 'relu')(x)\n",
    "x = Conv2D(32, 3, padding='same', activation = 'relu')(x)\n",
    "x = MaxPool2D()(x)\n",
    "\n",
    "x = BatchNormalization()(x)\n",
    "x = Dropout(0.3)(x)\n",
    "\n",
    "x = Conv2D(64, 3, padding='same', activation = 'relu')(x)\n",
    "x = Conv2D(64, 3, padding='same', activation = 'relu')(x)\n",
    "x = Conv2D(64, 3, padding='same', activation = 'relu')(x)\n",
    "x = MaxPool2D()(x)\n",
    "\n",
    "x = BatchNormalization()(x)\n",
    "x = Dropout(0.3)(x)\n",
    "\n",
    "x = Conv2D(128, 3, padding='same', activation = 'relu')(x)\n",
    "x = Conv2D(128, 3, padding='same', activation = 'relu')(x)\n",
    "x = Conv2D(128, 3, padding='same', activation = 'relu')(x)\n",
    "x = MaxPool2D()(x)\n",
    "\n",
    "x = BatchNormalization()(x)\n",
    "x = Dropout(0.3)(x)\n",
    "\n",
    "x = Conv2D(256, 3, padding='same', activation = 'relu')(x)\n",
    "\n",
    "x = BatchNormalization()(x)\n",
    "x = Dropout(0.3)(x)\n",
    "\n",
    "x = UpSampling2D()(x)\n",
    "x = Conv2DTranspose(128, 3, padding = 'same', activation = 'relu')(x)\n",
    "x = Conv2DTranspose(128, 3, padding = 'same', activation = 'relu')(x)\n",
    "x = Conv2DTranspose(128, 3, padding = 'same', activation = 'relu')(x)\n",
    "\n",
    "x = BatchNormalization()(x)\n",
    "x = Dropout(0.3)(x)\n",
    "\n",
    "x = UpSampling2D()(x)\n",
    "x = Conv2DTranspose(64, 3, padding = 'same', activation = 'relu')(x)\n",
    "x = Conv2DTranspose(64, 3, padding = 'same', activation = 'relu')(x)\n",
    "x = Conv2DTranspose(64, 3, padding = 'same', activation = 'relu')(x)\n",
    "\n",
    "x = BatchNormalization()(x)\n",
    "x = Dropout(0.3)(x)\n",
    "\n",
    "x = UpSampling2D()(x)\n",
    "x = Conv2DTranspose(32, 3, padding = 'same', activation = 'relu')(x)\n",
    "x = Conv2DTranspose(32, 3, padding = 'same', activation = 'relu')(x)\n",
    "\n",
    "x = BatchNormalization()(x)\n",
    "x = Dropout(0.3)(x)\n",
    "\n",
    "x = UpSampling2D()(x)\n",
    "x = Conv2DTranspose(16, 3, padding = 'same', activation = 'relu')(x)\n",
    "x = Conv2DTranspose(16, 3, padding = 'same', activation = 'relu')(x)\n",
    "\n",
    "x = Dropout(0.3)(x)\n",
    "\n",
    "output = Dense(labels.shape[-1], activation = 'softmax')(x)\n",
    "\n",
    "model = Model(inputs = input, outputs = output)\n",
    "\n",
    "model.compile(loss = 'categorical_crossentropy', optimizer = 'adam', metrics = ['acc'])\n",
    "\n",
    "model.summary()"
   ]
  },
  {
   "cell_type": "code",
   "execution_count": null,
   "metadata": {},
   "outputs": [],
   "source": [
    "from keras.models import load_model\n",
    "\n",
    "model = load_model('model/c2_0.h5')"
   ]
  },
  {
   "cell_type": "code",
   "execution_count": null,
   "metadata": {},
   "outputs": [],
   "source": [
    "wg = np.ones(labels.shape[-1]) * (imgs.shape[1] * imgs.shape[2])\n",
    "wg[0] = 1\n",
    "\n",
    "print(wg)\n",
    "\n",
    "hist = model.fit(imgs, labels, initial_epoch = 0, epochs = 100, batch_size = 10, class_weight = wg, validation_split = 0.2)\n",
    "\n",
    "hist"
   ]
  },
  {
   "cell_type": "code",
   "execution_count": null,
   "metadata": {},
   "outputs": [],
   "source": [
    "%matplotlib inline\n",
    "\n",
    "import matplotlib.pyplot as plt\n",
    "\n",
    "plt.rcParams['figure.figsize'] = (16., 4.)\n",
    "\n",
    "plt.subplot(1, 4, 1)\n",
    "plt.plot(hist.history['loss'])\n",
    "\n",
    "plt.subplot(1, 4, 2)\n",
    "plt.plot(hist.history['acc'])\n",
    "\n",
    "plt.subplot(1, 4, 3)\n",
    "plt.plot(hist.history['val_loss'])\n",
    "\n",
    "plt.subplot(1, 4, 4)\n",
    "plt.plot(hist.history['val_acc'])"
   ]
  },
  {
   "cell_type": "code",
   "execution_count": null,
   "metadata": {},
   "outputs": [],
   "source": [
    "model.save('model/c2_100.h5')"
   ]
  },
  {
   "cell_type": "code",
   "execution_count": null,
   "metadata": {},
   "outputs": [],
   "source": [
    "import cv2\n",
    "\n",
    "colors = [(255, 255, 255), (255, 0, 0), (0, 255, 0), (0, 0, 255), (255, 255, 0), (0, 255, 255), (255, 0, 255), (255, 165, 0), (210, 180, 140)]\n",
    "\n",
    "def predict(index, s = 5.0, ns = 5, c_size = 5):\n",
    "    plt.rcParams['figure.figsize'] = (s * 4, s)\n",
    "    \n",
    "    img = imgs[index]\n",
    "\n",
    "    p = model.predict(np.array([img]))[0]\n",
    "\n",
    "    img1 = np.apply_along_axis(lambda x: colors[x.argmax()], -1, labels[index])\n",
    "    img2 = np.apply_along_axis(lambda x: colors[x.argmax()], -1, p)\n",
    "    \n",
    "    img3 = cv2.addWeighted(img.astype(int), 0.4, img2, 0.6, 0)\n",
    "    \n",
    "    plt.subplot(1, 4, 1)\n",
    "    plt.imshow(img1)\n",
    "    \n",
    "    plt.subplot(1, 4, 2)\n",
    "    plt.imshow(img3)\n",
    "    \n",
    "    plt.subplot(1, 4, 3)\n",
    "    plt.imshow(img2)\n",
    "\n",
    "    img4 = img.astype(int)\n",
    "    \n",
    "    for i in range(1, labels.shape[-1]):\n",
    "        print(f\"--- {i} : {labels_t[index, (i - 1) * 2]}, {labels_t[index, (i - 1) * 2 + 1]} ---\")\n",
    "\n",
    "        t = p[:, :, i]\n",
    "        fst = True\n",
    "        \n",
    "        for j in np.argsort(t.flatten())[::-1][:ns]:\n",
    "            y, x = divmod(j, imgs.shape[2])\n",
    "        \n",
    "            print(f\"{j}, x={x}, y={y}, prob={t[y, x]}\")\n",
    "            \n",
    "            if fst:\n",
    "                img4 = cv2.circle(img4, (x, y), c_size, colors[i], -1)\n",
    "                fst = False\n",
    "\n",
    "    plt.subplot(1, 4, 4)\n",
    "    plt.imshow(img4)"
   ]
  },
  {
   "cell_type": "code",
   "execution_count": null,
   "metadata": {},
   "outputs": [],
   "source": [
    "predict(0)"
   ]
  },
  {
   "cell_type": "code",
   "execution_count": null,
   "metadata": {},
   "outputs": [],
   "source": [
    "predict(1)"
   ]
  },
  {
   "cell_type": "code",
   "execution_count": null,
   "metadata": {},
   "outputs": [],
   "source": [
    "predict(2)"
   ]
  },
  {
   "cell_type": "code",
   "execution_count": null,
   "metadata": {},
   "outputs": [],
   "source": [
    "predict(3)"
   ]
  },
  {
   "cell_type": "code",
   "execution_count": null,
   "metadata": {},
   "outputs": [],
   "source": [
    "predict(10)"
   ]
  },
  {
   "cell_type": "code",
   "execution_count": null,
   "metadata": {},
   "outputs": [],
   "source": [
    "predict(15)"
   ]
  },
  {
   "cell_type": "code",
   "execution_count": null,
   "metadata": {},
   "outputs": [],
   "source": [
    "predict(-1)"
   ]
  },
  {
   "cell_type": "code",
   "execution_count": null,
   "metadata": {},
   "outputs": [],
   "source": [
    "predict(-2)"
   ]
  },
  {
   "cell_type": "code",
   "execution_count": null,
   "metadata": {},
   "outputs": [],
   "source": [
    "predict(-3)"
   ]
  }
 ],
 "metadata": {
  "kernelspec": {
   "display_name": "Python 3",
   "language": "python",
   "name": "python3"
  },
  "language_info": {
   "codemirror_mode": {
    "name": "ipython",
    "version": 3
   },
   "file_extension": ".py",
   "mimetype": "text/x-python",
   "name": "python",
   "nbconvert_exporter": "python",
   "pygments_lexer": "ipython3",
   "version": "3.6.5"
  }
 },
 "nbformat": 4,
 "nbformat_minor": 2
}
