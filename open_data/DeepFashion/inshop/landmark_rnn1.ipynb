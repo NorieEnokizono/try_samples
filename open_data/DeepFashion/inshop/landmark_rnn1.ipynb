{
 "cells": [
  {
   "cell_type": "code",
   "execution_count": null,
   "metadata": {},
   "outputs": [],
   "source": [
    "import pandas as pd\n",
    "\n",
    "df = pd.read_table('list_landmarks_inshop.txt', sep = '\\s+', skiprows = 1)\n",
    "\n",
    "df"
   ]
  },
  {
   "cell_type": "code",
   "execution_count": null,
   "metadata": {},
   "outputs": [],
   "source": [
    "n = 100\n",
    "\n",
    "dfa = df[(df['clothes_type'] == 1) & (df['variation_type'] == 1) &\n",
    "         (df['landmark_visibility_1'] == 0) & (df['landmark_visibility_2'] == 0) & \n",
    "         (df['landmark_visibility_3'] == 0) & (df['landmark_visibility_4'] == 0) &\n",
    "         (df['landmark_visibility_5'] == 0) & (df['landmark_visibility_6'] == 0)][:n]\n",
    "\n",
    "dfa"
   ]
  },
  {
   "cell_type": "code",
   "execution_count": null,
   "metadata": {},
   "outputs": [],
   "source": [
    "import numpy as np\n",
    "from keras.preprocessing.image import load_img, img_to_array\n",
    "\n",
    "imgs = np.array([ img_to_array(load_img(f)) for f in dfa['image_name']])\n",
    "\n",
    "imgs.shape"
   ]
  },
  {
   "cell_type": "code",
   "execution_count": null,
   "metadata": {},
   "outputs": [],
   "source": [
    "cols = [f'landmark_location_{t}_{i + 1}' for i in range(6) for t in ['x', 'y'] ]\n",
    "cols"
   ]
  },
  {
   "cell_type": "code",
   "execution_count": null,
   "metadata": {},
   "outputs": [],
   "source": [
    "labels = dfa[cols].values\n",
    "\n",
    "for d in labels:\n",
    "    for i in range(0, len(cols), 2):\n",
    "        d[i] /= imgs.shape[2]\n",
    "        d[i + 1] /= imgs.shape[1]\n",
    "\n",
    "labels.shape"
   ]
  },
  {
   "cell_type": "code",
   "execution_count": null,
   "metadata": {},
   "outputs": [],
   "source": [
    "labels[0]"
   ]
  },
  {
   "cell_type": "code",
   "execution_count": null,
   "metadata": {},
   "outputs": [],
   "source": [
    "from keras.models import Model\n",
    "from keras.layers import Input, Dense, Flatten, Dropout, GRU, Permute, Bidirectional, TimeDistributed, Reshape\n",
    "from keras.layers.convolutional import Conv2D\n",
    "from keras.layers.pooling import MaxPool2D\n",
    "from keras.layers.normalization import BatchNormalization\n",
    "\n",
    "input = Input(shape = imgs.shape[1:])\n",
    "\n",
    "x = input\n",
    "\n",
    "x = BatchNormalization()(x)\n",
    "\n",
    "x = Conv2D(1, 3, padding='same', activation = 'relu')(x)\n",
    "\n",
    "x = BatchNormalization()(x)\n",
    "x = Dropout(0.4)(x)\n",
    "\n",
    "sh = (int(x.shape[1]), int(x.shape[2]))\n",
    "\n",
    "x = Reshape(sh)(x)\n",
    "\n",
    "x = Bidirectional(GRU(64, return_sequences = True, activation = 'relu'))(x)\n",
    "x = Dropout(0.4)(x)\n",
    "\n",
    "x = Bidirectional(GRU(64, return_sequences = True, activation = 'relu'))(x)\n",
    "x = Dropout(0.4)(x)\n",
    "\n",
    "x = TimeDistributed(Dense(64, activation = 'relu'))(x)\n",
    "x = Dropout(0.4)(x)\n",
    "\n",
    "x = Flatten()(x)\n",
    "\n",
    "x = Dense(512, activation = 'relu')(x)\n",
    "x = Dropout(0.4)(x)\n",
    "\n",
    "x = Dense(256, activation = 'relu')(x)\n",
    "x = Dropout(0.4)(x)\n",
    "\n",
    "output = Dense(labels.shape[-1], activation = 'sigmoid')(x)\n",
    "\n",
    "model = Model(inputs = input, outputs = output)\n",
    "\n",
    "model.compile(loss = 'mse', optimizer = 'adam', metrics = ['mae'])\n",
    "\n",
    "model.summary()"
   ]
  },
  {
   "cell_type": "code",
   "execution_count": null,
   "metadata": {},
   "outputs": [],
   "source": [
    "from keras.models import load_model\n",
    "\n",
    "model = load_model('model/r1_0.h5')"
   ]
  },
  {
   "cell_type": "code",
   "execution_count": null,
   "metadata": {},
   "outputs": [],
   "source": [
    "hist = model.fit(imgs, labels, initial_epoch = 0, epochs = 200, batch_size = 10, validation_split = 0.2)\n",
    "\n",
    "hist"
   ]
  },
  {
   "cell_type": "code",
   "execution_count": null,
   "metadata": {},
   "outputs": [],
   "source": [
    "%matplotlib inline\n",
    "\n",
    "import matplotlib.pyplot as plt\n",
    "\n",
    "plt.rcParams['figure.figsize'] = (16., 4.)\n",
    "\n",
    "plt.subplot(1, 4, 1)\n",
    "plt.plot(hist.history['loss'])\n",
    "\n",
    "plt.subplot(1, 4, 2)\n",
    "plt.plot(hist.history['mean_absolute_error'])\n",
    "\n",
    "plt.subplot(1, 4, 3)\n",
    "plt.plot(hist.history['val_loss'])\n",
    "\n",
    "plt.subplot(1, 4, 4)\n",
    "plt.plot(hist.history['val_mean_absolute_error'])\n",
    "\n",
    "\n"
   ]
  },
  {
   "cell_type": "code",
   "execution_count": null,
   "metadata": {},
   "outputs": [],
   "source": [
    "model.save('model/rnn1_0.h5')"
   ]
  },
  {
   "cell_type": "code",
   "execution_count": null,
   "metadata": {},
   "outputs": [],
   "source": [
    "import cv2\n",
    "\n",
    "colors = [(255, 255, 255), (255, 0, 0), (0, 255, 0), (0, 0, 255), (255, 255, 0), (0, 255, 255), (255, 0, 255), (255, 165, 0), (210, 180, 140)]\n",
    "\n",
    "def predict(index, c_size = 6, s = 4.0):\n",
    "    plt.rcParams['figure.figsize'] = (s * 2, s)\n",
    "    \n",
    "    img = imgs[index]\n",
    "\n",
    "    p = model.predict(np.array([img]))[0]\n",
    "\n",
    "    img1 = img.astype(int)\n",
    "    img2 = img.astype(int)\n",
    "    \n",
    "    for i in range(0, len(p), 2):\n",
    "        color = colors[int(i / 2) + 1]\n",
    "        \n",
    "        dx = int(labels[index][i] * imgs.shape[2])\n",
    "        dy = int(labels[index][i + 1] * imgs.shape[1])\n",
    "\n",
    "        img1 = cv2.circle(img1, (dx, dy), c_size, color, -1)\n",
    "        \n",
    "        px = int(p[i] * imgs.shape[2])\n",
    "        py = int(p[i + 1] * imgs.shape[1])\n",
    "\n",
    "        img2 = cv2.circle(img2, (px, py), c_size, color, -1)\n",
    "\n",
    "        print(f\"label: ({dx}, {dy}), predict: ({px}, {py})\")\n",
    "\n",
    "    plt.subplot(1, 2, 1)\n",
    "    plt.imshow(img1)\n",
    "\n",
    "    plt.subplot(1, 2, 2)\n",
    "    plt.imshow(img2)\n"
   ]
  },
  {
   "cell_type": "code",
   "execution_count": null,
   "metadata": {},
   "outputs": [],
   "source": [
    "predict(0)"
   ]
  },
  {
   "cell_type": "code",
   "execution_count": null,
   "metadata": {},
   "outputs": [],
   "source": [
    "predict(1)"
   ]
  },
  {
   "cell_type": "code",
   "execution_count": null,
   "metadata": {},
   "outputs": [],
   "source": [
    "predict(2)"
   ]
  },
  {
   "cell_type": "code",
   "execution_count": null,
   "metadata": {},
   "outputs": [],
   "source": [
    "predict(3)"
   ]
  },
  {
   "cell_type": "code",
   "execution_count": null,
   "metadata": {},
   "outputs": [],
   "source": [
    "predict(10)"
   ]
  },
  {
   "cell_type": "code",
   "execution_count": null,
   "metadata": {},
   "outputs": [],
   "source": [
    "predict(15)"
   ]
  },
  {
   "cell_type": "code",
   "execution_count": null,
   "metadata": {},
   "outputs": [],
   "source": [
    "predict(-1)"
   ]
  },
  {
   "cell_type": "code",
   "execution_count": null,
   "metadata": {},
   "outputs": [],
   "source": [
    "predict(-2)"
   ]
  },
  {
   "cell_type": "code",
   "execution_count": null,
   "metadata": {},
   "outputs": [],
   "source": [
    "predict(-3)"
   ]
  },
  {
   "cell_type": "code",
   "execution_count": null,
   "metadata": {},
   "outputs": [],
   "source": [
    "predict(-4)"
   ]
  }
 ],
 "metadata": {
  "kernelspec": {
   "display_name": "Python 3",
   "language": "python",
   "name": "python3"
  },
  "language_info": {
   "codemirror_mode": {
    "name": "ipython",
    "version": 3
   },
   "file_extension": ".py",
   "mimetype": "text/x-python",
   "name": "python",
   "nbconvert_exporter": "python",
   "pygments_lexer": "ipython3",
   "version": "3.6.5"
  }
 },
 "nbformat": 4,
 "nbformat_minor": 2
}
