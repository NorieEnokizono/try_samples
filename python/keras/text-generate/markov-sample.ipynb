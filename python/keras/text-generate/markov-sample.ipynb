{
 "cells": [
  {
   "cell_type": "code",
   "execution_count": null,
   "metadata": {},
   "outputs": [],
   "source": [
    "from gensim.models.word2vec import LineSentence\n",
    "from gensim.corpora import Dictionary\n",
    "\n",
    "file = 'data/data.txt'\n",
    "\n",
    "EOS = '\\n'\n",
    "\n",
    "sentence_size = 3\n",
    "\n",
    "sentences = LineSentence(file)\n",
    "\n",
    "docs = [ws + ([EOS] * (sentence_size - 1)) for ws in sentences]\n",
    "\n",
    "dic = Dictionary(docs)"
   ]
  },
  {
   "cell_type": "code",
   "execution_count": null,
   "metadata": {},
   "outputs": [],
   "source": [
    "import json\n",
    "\n",
    "# Dictionary の内容を JSON で保存\n",
    "with open('dict.json', 'w', encoding = 'utf8') as f:\n",
    "    ds = [{'index': k, 'word': v} for k, v in dic.iteritems()]\n",
    "    json.dump(ds, f, ensure_ascii = False)"
   ]
  },
  {
   "cell_type": "code",
   "execution_count": null,
   "metadata": {},
   "outputs": [],
   "source": [
    "def split(ws, size):\n",
    "    for i in range(len(ws) - size + 1):\n",
    "        yield tuple(ws[i:i + size])\n",
    "\n",
    "dw = [t for d in docs for t in split(d, sentence_size)]"
   ]
  },
  {
   "cell_type": "code",
   "execution_count": null,
   "metadata": {},
   "outputs": [],
   "source": [
    "from collections import Counter\n",
    "\n",
    "fq = Counter(dw)"
   ]
  },
  {
   "cell_type": "code",
   "execution_count": null,
   "metadata": {},
   "outputs": [],
   "source": [
    "fq"
   ]
  },
  {
   "cell_type": "code",
   "execution_count": null,
   "metadata": {},
   "outputs": [],
   "source": [
    "import random\n",
    "import numpy as np\n",
    "\n",
    "def calc_prob(cs):\n",
    "    return fq[cs]\n",
    "\n",
    "def predict_next_words(word):\n",
    "    cd = [d for d in dw if d[0] == word]\n",
    "    \n",
    "    if len(cd) == 0:\n",
    "        return (EOS,)\n",
    "    \n",
    "    probs = np.array([calc_prob(cs) for cs in cd], dtype = float)\n",
    "    probs /= probs.sum()\n",
    "    \n",
    "    return cd[np.random.choice(len(cd), p = probs)]\n",
    "\n",
    "def generate(fst_word, maxlen = 50):\n",
    "    res = [fst_word]\n",
    "    \n",
    "    for _ in range(maxlen):\n",
    "        next_words = predict_next_words(res[-1])\n",
    "        \n",
    "        res += list(filter(lambda x: x is not EOS, next_words[1:]))\n",
    "        \n",
    "        if next_words[-1] == EOS:\n",
    "            break\n",
    "\n",
    "    return res"
   ]
  },
  {
   "cell_type": "code",
   "execution_count": null,
   "metadata": {},
   "outputs": [],
   "source": [
    "for _ in range(5):\n",
    "    print( ''.join(generate('その')) )\n",
    "    print('----')"
   ]
  }
 ],
 "metadata": {
  "kernelspec": {
   "display_name": "Python 3",
   "language": "python",
   "name": "python3"
  },
  "language_info": {
   "codemirror_mode": {
    "name": "ipython",
    "version": 3
   },
   "file_extension": ".py",
   "mimetype": "text/x-python",
   "name": "python",
   "nbconvert_exporter": "python",
   "pygments_lexer": "ipython3",
   "version": "3.6.4"
  }
 },
 "nbformat": 4,
 "nbformat_minor": 2
}
