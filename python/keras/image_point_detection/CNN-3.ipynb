{
 "cells": [
  {
   "cell_type": "code",
   "execution_count": null,
   "metadata": {},
   "outputs": [],
   "source": [
    "import pandas as pd\n",
    "\n",
    "df = pd.read_csv('data/data2.tsv', delimiter = '\\t')\n",
    "\n",
    "df"
   ]
  },
  {
   "cell_type": "code",
   "execution_count": null,
   "metadata": {},
   "outputs": [],
   "source": [
    "import numpy as np\n",
    "from keras.preprocessing.image import load_img, img_to_array\n",
    "\n",
    "imgs = np.array([ img_to_array(load_img(i)) for i in df['image'].values ])\n",
    "\n",
    "imgs.shape"
   ]
  },
  {
   "cell_type": "code",
   "execution_count": null,
   "metadata": {},
   "outputs": [],
   "source": [
    "cols = ['x1', 'y1', 'x2', 'y2', 'x3', 'y3', 'x4', 'y4']\n",
    "\n",
    "dfl = df[cols].astype(np.float64)\n",
    "\n",
    "for i in range(0, len(cols), 2):\n",
    "    dfl[cols[i]] /= imgs.shape[2]\n",
    "    dfl[cols[i + 1]] /= imgs.shape[1]\n",
    "\n",
    "labels = dfl.values\n",
    "labels"
   ]
  },
  {
   "cell_type": "code",
   "execution_count": null,
   "metadata": {},
   "outputs": [],
   "source": [
    "from keras.models import Model\n",
    "from keras.layers import Input, Dense, Flatten, Dropout, Reshape\n",
    "from keras.layers.convolutional import Conv2D\n",
    "from keras.layers.pooling import MaxPool2D\n",
    "from keras.layers.normalization import BatchNormalization\n",
    "\n",
    "input = Input(shape = imgs.shape[1:])\n",
    "\n",
    "x = BatchNormalization()(input)\n",
    "\n",
    "x = Conv2D(16, 3, padding = 'same', activation = 'relu')(x)\n",
    "x = MaxPool2D()(x)\n",
    "\n",
    "x = BatchNormalization()(x)\n",
    "x = Dropout(0.2)(x)\n",
    "\n",
    "x = Conv2D(32, 3, padding = 'same', activation = 'relu')(x)\n",
    "x = Conv2D(32, 3, padding = 'same', activation = 'relu')(x)\n",
    "x = MaxPool2D()(x)\n",
    "\n",
    "x = BatchNormalization()(x)\n",
    "x = Dropout(0.2)(x)\n",
    "\n",
    "x = Conv2D(64, 3, padding = 'same', activation = 'relu')(x)\n",
    "x = Conv2D(64, 3, padding = 'same', activation = 'relu')(x)\n",
    "x = Conv2D(64, 3, padding = 'same', activation = 'relu')(x)\n",
    "x = MaxPool2D()(x)\n",
    "\n",
    "x = BatchNormalization()(x)\n",
    "x = Dropout(0.2)(x)\n",
    "\n",
    "x = Conv2D(128, 3, padding = 'same', activation = 'relu')(x)\n",
    "x = Conv2D(128, 3, padding = 'same', activation = 'relu')(x)\n",
    "x = MaxPool2D()(x)\n",
    "\n",
    "x = BatchNormalization()(x)\n",
    "x = Dropout(0.2)(x)\n",
    "\n",
    "def flatten_conv(d):\n",
    "    cv = Conv2D(16, 1, activation = 'relu')\n",
    "    d = cv(d)\n",
    "\n",
    "    sh1 = cv.output_shape\n",
    "\n",
    "    ft = Flatten()\n",
    "    d = ft(d)\n",
    "\n",
    "    sh2 = ft.output_shape\n",
    "    \n",
    "    d = Dense(int(sh2[-1] / 2), activation = 'relu')(d)\n",
    "    d = Dense(int(sh2[-1] / 4), activation = 'relu')(d)\n",
    "    d = Reshape(tuple(sh1[1:-1]) + (4,))(d)\n",
    "\n",
    "    d = BatchNormalization()(d)\n",
    "    d = Dropout(0.2)(d)\n",
    "\n",
    "    d = Conv2D(32, 3, padding = 'same', activation = 'relu')(d)\n",
    "    d = Conv2D(32, 3, padding = 'same', activation = 'relu')(d)\n",
    "\n",
    "    d = BatchNormalization()(d)\n",
    "    d = Dropout(0.2)(d)\n",
    "    \n",
    "    return d\n",
    "\n",
    "\n",
    "for i in range(2):\n",
    "    x = flatten_conv(x)\n",
    "\n",
    "x = Conv2D(16, 1, activation = 'relu')(x)\n",
    "x = Flatten()(x)\n",
    "\n",
    "x = Dense(256, activation = 'relu')(x)\n",
    "x = Dense(64, activation = 'relu')(x)\n",
    "\n",
    "output = Dense(8, activation = 'sigmoid')(x)\n",
    "\n",
    "model = Model(inputs = input, outputs = output)\n",
    "\n",
    "#model.compile(loss = 'mean_squared_error', optimizer = 'adam', metrics = ['mae'])\n",
    "model.compile(loss = 'mae', optimizer = 'adam', metrics = ['mse'])\n",
    "\n",
    "model.summary()"
   ]
  },
  {
   "cell_type": "code",
   "execution_count": null,
   "metadata": {},
   "outputs": [],
   "source": [
    "hist = model.fit(imgs, labels, epochs = 50, batch_size = 10)\n",
    "hist"
   ]
  },
  {
   "cell_type": "code",
   "execution_count": null,
   "metadata": {},
   "outputs": [],
   "source": [
    "%matplotlib inline\n",
    "\n",
    "import matplotlib.pyplot as plt\n",
    "\n",
    "plt.plot(hist.history['loss'])"
   ]
  },
  {
   "cell_type": "code",
   "execution_count": null,
   "metadata": {},
   "outputs": [],
   "source": [
    "model.save('model/cnn-3_0.h5')"
   ]
  },
  {
   "cell_type": "code",
   "execution_count": null,
   "metadata": {},
   "outputs": [],
   "source": [
    "import cv2\n",
    "\n",
    "def scale(d):\n",
    "    for i in range(0, len(d), 2):\n",
    "        d[i] *= imgs.shape[2]\n",
    "        d[i + 1] *= imgs.shape[1]\n",
    "\n",
    "    return d\n",
    "        \n",
    "\n",
    "def predict(i, s = 8.0):\n",
    "    plt.rcParams['figure.figsize'] = (s, s)\n",
    "    \n",
    "    r = scale(np.copy(labels[i])).astype(int)\n",
    "    p = scale(model.predict(np.array([imgs[i]]))[0]).astype(int)\n",
    "\n",
    "    print(r)\n",
    "    print(p)\n",
    "    \n",
    "    img = imgs[i].astype(int)\n",
    "\n",
    "    line_size = 3\n",
    "    r_color = (0, 255, 0)\n",
    "    p_color = (255, 0, 0)\n",
    "    \n",
    "    for i in range(0, len(r), 4):\n",
    "        img = cv2.line(img, (r[i], r[i + 1]), (r[i + 2], r[i + 3]), r_color, line_size)\n",
    "        img = cv2.line(img, (p[i], p[i + 1]), (p[i + 2], p[i + 3]), p_color, line_size)\n",
    "    \n",
    "    plt.imshow(img)\n"
   ]
  },
  {
   "cell_type": "code",
   "execution_count": null,
   "metadata": {},
   "outputs": [],
   "source": [
    "predict(0)"
   ]
  },
  {
   "cell_type": "code",
   "execution_count": null,
   "metadata": {},
   "outputs": [],
   "source": [
    "predict(1)"
   ]
  },
  {
   "cell_type": "code",
   "execution_count": null,
   "metadata": {},
   "outputs": [],
   "source": [
    "predict(2)"
   ]
  },
  {
   "cell_type": "code",
   "execution_count": null,
   "metadata": {},
   "outputs": [],
   "source": [
    "predict(3)"
   ]
  }
 ],
 "metadata": {
  "kernelspec": {
   "display_name": "Python 3",
   "language": "python",
   "name": "python3"
  },
  "language_info": {
   "codemirror_mode": {
    "name": "ipython",
    "version": 3
   },
   "file_extension": ".py",
   "mimetype": "text/x-python",
   "name": "python",
   "nbconvert_exporter": "python",
   "pygments_lexer": "ipython3",
   "version": "3.6.5"
  }
 },
 "nbformat": 4,
 "nbformat_minor": 2
}
