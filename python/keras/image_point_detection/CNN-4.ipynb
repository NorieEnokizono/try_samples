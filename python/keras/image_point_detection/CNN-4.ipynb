{
 "cells": [
  {
   "cell_type": "code",
   "execution_count": null,
   "metadata": {},
   "outputs": [],
   "source": [
    "import pandas as pd\n",
    "\n",
    "df = pd.read_csv('data/data4.tsv', delimiter = '\\t')\n",
    "\n",
    "df"
   ]
  },
  {
   "cell_type": "code",
   "execution_count": null,
   "metadata": {},
   "outputs": [],
   "source": [
    "import numpy as np\n",
    "from keras.preprocessing.image import load_img, img_to_array\n",
    "\n",
    "imgs = np.array([ img_to_array(load_img(i)) for i in df['image'].values ])\n",
    "\n",
    "imgs.shape"
   ]
  },
  {
   "cell_type": "code",
   "execution_count": null,
   "metadata": {},
   "outputs": [],
   "source": [
    "import cv2\n",
    "\n",
    "def label_img(ps, line_size = 6):\n",
    "    shape = tuple(imgs.shape[1:-1]) + (1,)\n",
    "    \n",
    "    img = np.zeros(shape)\n",
    "    \n",
    "    for i in range(0, len(ps), 4):\n",
    "        cv2.line(img, (ps[i], ps[i + 1]), (ps[i + 2], ps[i + 3]), 255, line_size)\n",
    "    \n",
    "    return img"
   ]
  },
  {
   "cell_type": "code",
   "execution_count": null,
   "metadata": {},
   "outputs": [],
   "source": [
    "cols = ['x1', 'y1', 'x2', 'y2', 'x3', 'y3', 'x4', 'y4', 'x5', 'y5', 'x6', 'y6', 'x7', 'y7', 'x8', 'y8']\n",
    "\n",
    "labels = np.array([label_img(d) / 255 for d in df[cols].values])\n",
    "\n",
    "labels.shape"
   ]
  },
  {
   "cell_type": "code",
   "execution_count": null,
   "metadata": {},
   "outputs": [],
   "source": [
    "%matplotlib inline\n",
    "\n",
    "import matplotlib.pyplot as plt\n",
    "\n",
    "def imshow_label(index, s = 6.0):\n",
    "    plt.rcParams['figure.figsize'] = (s, s)\n",
    "\n",
    "    plt.subplot(1, 3, 1)\n",
    "    plt.imshow(imgs[index].astype(int))\n",
    "\n",
    "    plt.subplot(1, 3, 2)\n",
    "    plt.imshow(labels[index].reshape(labels.shape[1:-1]), cmap = 'gray')\n",
    "\n",
    "    img = cv2.addWeighted(imgs[index][:, :, 0].astype(int), 0.5, (labels[index] * 255).astype(int), 0.5, 0)\n",
    "    \n",
    "    plt.subplot(1, 3, 3)\n",
    "    plt.imshow(img, cmap = 'gray')\n",
    "\n",
    "    "
   ]
  },
  {
   "cell_type": "code",
   "execution_count": null,
   "metadata": {},
   "outputs": [],
   "source": [
    "imshow_label(0)"
   ]
  },
  {
   "cell_type": "code",
   "execution_count": null,
   "metadata": {},
   "outputs": [],
   "source": [
    "imshow_label(1)"
   ]
  },
  {
   "cell_type": "code",
   "execution_count": null,
   "metadata": {},
   "outputs": [],
   "source": [
    "from keras.models import Model\n",
    "from keras.layers import Input, Dense, Flatten, Dropout, UpSampling2D, Reshape\n",
    "from keras.layers.convolutional import Conv2D\n",
    "from keras.layers.pooling import MaxPool2D\n",
    "from keras.layers.normalization import BatchNormalization\n",
    "\n",
    "input = Input(shape = imgs.shape[1:])\n",
    "\n",
    "x = BatchNormalization()(input)\n",
    "\n",
    "x = Conv2D(16, 3, padding = 'same', activation = 'relu')(x)\n",
    "x = MaxPool2D()(x)\n",
    "\n",
    "x = BatchNormalization()(x)\n",
    "x = Dropout(0.2)(x)\n",
    "\n",
    "x = Conv2D(32, 3, padding = 'same', activation = 'relu')(x)\n",
    "x = Conv2D(32, 3, padding = 'same', activation = 'relu')(x)\n",
    "x = MaxPool2D()(x)\n",
    "\n",
    "x = BatchNormalization()(x)\n",
    "x = Dropout(0.2)(x)\n",
    "\n",
    "x = Conv2D(64, 3, padding = 'same', activation = 'relu')(x)\n",
    "x = Conv2D(64, 3, padding = 'same', activation = 'relu')(x)\n",
    "x = MaxPool2D()(x)\n",
    "\n",
    "x = BatchNormalization()(x)\n",
    "x = Dropout(0.2)(x)\n",
    "\n",
    "x = Conv2D(128, 3, padding = 'same', activation = 'relu')(x)\n",
    "x = Conv2D(128, 3, padding = 'same', activation = 'relu')(x)\n",
    "x = MaxPool2D()(x)\n",
    "\n",
    "x = BatchNormalization()(x)\n",
    "x = Dropout(0.2)(x)\n",
    "\n",
    "x = Conv2D(16, 1, padding = 'same', activation = 'relu')(x)\n",
    "\n",
    "f = Flatten()\n",
    "x = f(x)\n",
    "\n",
    "print(f\"{f.input_shape}, {f.output_shape}\")\n",
    "\n",
    "x = Dense(int(f.output_shape[-1] / 2))(x)\n",
    "x = Dense(int(f.output_shape[-1] / 4))(x)\n",
    "\n",
    "x = BatchNormalization()(x)\n",
    "x = Dropout(0.2)(x)\n",
    "\n",
    "x = Reshape(tuple(f.input_shape[1:-1]) + (4,))(x)\n",
    "\n",
    "x = UpSampling2D()(x)\n",
    "x = Conv2D(128, 3, padding = 'same', activation = 'relu')(x)\n",
    "x = Conv2D(128, 3, padding = 'same', activation = 'relu')(x)\n",
    "\n",
    "x = BatchNormalization()(x)\n",
    "x = Dropout(0.2)(x)\n",
    "\n",
    "x = UpSampling2D()(x)\n",
    "x = Conv2D(64, 3, padding = 'same', activation = 'relu')(x)\n",
    "x = Conv2D(64, 3, padding = 'same', activation = 'relu')(x)\n",
    "\n",
    "x = BatchNormalization()(x)\n",
    "x = Dropout(0.2)(x)\n",
    "\n",
    "x = UpSampling2D()(x)\n",
    "x = Conv2D(32, 3, padding = 'same', activation = 'relu')(x)\n",
    "x = Conv2D(32, 3, padding = 'same', activation = 'relu')(x)\n",
    "\n",
    "x = BatchNormalization()(x)\n",
    "x = Dropout(0.2)(x)\n",
    "\n",
    "x = UpSampling2D()(x)\n",
    "x = Conv2D(16, 3, padding = 'same', activation = 'relu')(x)\n",
    "\n",
    "x = BatchNormalization()(x)\n",
    "x = Dropout(0.2)(x)\n",
    "\n",
    "output = Conv2D(1, 1, activation = 'sigmoid')(x)\n",
    "\n",
    "model = Model(inputs = input, outputs = output)\n",
    "          \n",
    "model.compile(loss = 'mae', optimizer = 'adam', metrics = ['mse'])\n",
    "\n",
    "model.summary()"
   ]
  },
  {
   "cell_type": "code",
   "execution_count": null,
   "metadata": {},
   "outputs": [],
   "source": [
    "hist = model.fit(imgs, labels, epochs = 50, batch_size = 10)\n",
    "hist"
   ]
  },
  {
   "cell_type": "code",
   "execution_count": null,
   "metadata": {},
   "outputs": [],
   "source": [
    "plt.rcParams['figure.figsize'] = (4.0, 4.0)\n",
    "    \n",
    "plt.plot(hist.history['loss'])"
   ]
  },
  {
   "cell_type": "code",
   "execution_count": null,
   "metadata": {},
   "outputs": [],
   "source": [
    "model.save('model/cnn-4_0.h5')"
   ]
  },
  {
   "cell_type": "code",
   "execution_count": null,
   "metadata": {},
   "outputs": [],
   "source": [
    "import cv2\n",
    "\n",
    "def predict(i, s = 8.0):\n",
    "    plt.rcParams['figure.figsize'] = (s, s)\n",
    "    \n",
    "    r = (labels[i] * 255).astype(int)\n",
    "    p = (model.predict(np.array([imgs[i]]))[0] * 255).astype(int)\n",
    "   \n",
    "    img = imgs[i][:, :, 0].astype(int)\n",
    "    \n",
    "    img2 = cv2.addWeighted(img, 0.5, r, 0.5, 0)\n",
    "    img3 = cv2.addWeighted(img, 0.5, p, 0.5, 0)\n",
    "    \n",
    "    plt.subplot(1, 4, 1)\n",
    "    plt.imshow(img2, cmap = 'gray')\n",
    "\n",
    "    plt.subplot(1, 4, 2)\n",
    "    plt.imshow(img3, cmap = 'gray')\n",
    "\n",
    "    plt.subplot(1, 4, 3)\n",
    "    plt.imshow(p.reshape(p.shape[:-1]), cmap = 'gray')\n"
   ]
  },
  {
   "cell_type": "code",
   "execution_count": null,
   "metadata": {},
   "outputs": [],
   "source": [
    "predict(0)"
   ]
  },
  {
   "cell_type": "code",
   "execution_count": null,
   "metadata": {},
   "outputs": [],
   "source": [
    "predict(1)"
   ]
  },
  {
   "cell_type": "code",
   "execution_count": null,
   "metadata": {},
   "outputs": [],
   "source": [
    "predict(2)"
   ]
  },
  {
   "cell_type": "code",
   "execution_count": null,
   "metadata": {},
   "outputs": [],
   "source": [
    "predict(3)"
   ]
  },
  {
   "cell_type": "code",
   "execution_count": null,
   "metadata": {},
   "outputs": [],
   "source": [
    "predict(4)"
   ]
  }
 ],
 "metadata": {
  "kernelspec": {
   "display_name": "Python 3",
   "language": "python",
   "name": "python3"
  },
  "language_info": {
   "codemirror_mode": {
    "name": "ipython",
    "version": 3
   },
   "file_extension": ".py",
   "mimetype": "text/x-python",
   "name": "python",
   "nbconvert_exporter": "python",
   "pygments_lexer": "ipython3",
   "version": "3.6.5"
  }
 },
 "nbformat": 4,
 "nbformat_minor": 2
}
