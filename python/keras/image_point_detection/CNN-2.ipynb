{
 "cells": [
  {
   "cell_type": "code",
   "execution_count": null,
   "metadata": {},
   "outputs": [],
   "source": [
    "import pandas as pd\n",
    "\n",
    "df = pd.read_csv('data/data1.tsv', delimiter = '\\t')\n",
    "\n",
    "df"
   ]
  },
  {
   "cell_type": "code",
   "execution_count": null,
   "metadata": {},
   "outputs": [],
   "source": [
    "import numpy as np\n",
    "from keras.preprocessing.image import load_img, img_to_array\n",
    "\n",
    "imgs = np.array([ img_to_array(load_img(f'img/{i}')) for i in df['image'].values ])\n",
    "\n",
    "imgs.shape"
   ]
  },
  {
   "cell_type": "code",
   "execution_count": null,
   "metadata": {},
   "outputs": [],
   "source": [
    "cols = ['x1', 'y1', 'x2', 'y2', 'x3', 'y3', 'x4', 'y4']\n",
    "\n",
    "dfl = df[cols].astype(np.float64)\n",
    "\n",
    "for c in cols:\n",
    "    n = 2 if c.startswith('x') else 1\n",
    "    dfl[c] = dfl[c] / imgs.shape[n]\n",
    "\n",
    "labels = dfl.values\n",
    "labels"
   ]
  },
  {
   "cell_type": "code",
   "execution_count": null,
   "metadata": {},
   "outputs": [],
   "source": [
    "from keras.models import Sequential\n",
    "from keras.layers import Dense, Flatten, Dropout\n",
    "from keras.layers.convolutional import Conv2D\n",
    "from keras.layers.pooling import MaxPool2D\n",
    "from keras.layers.normalization import BatchNormalization\n",
    "\n",
    "model = Sequential()\n",
    "\n",
    "model.add(BatchNormalization(input_shape = imgs.shape[1:]))\n",
    "\n",
    "model.add(Conv2D(6, 3, activation = 'relu'))\n",
    "model.add(MaxPool2D())\n",
    "\n",
    "model.add(BatchNormalization())\n",
    "model.add(Dropout(0.2))\n",
    "\n",
    "model.add(Conv2D(16, 3, activation = 'relu'))\n",
    "model.add(Conv2D(16, 3, activation = 'relu'))\n",
    "model.add(MaxPool2D())\n",
    "\n",
    "model.add(BatchNormalization())\n",
    "model.add(Dropout(0.2))\n",
    "\n",
    "model.add(Conv2D(32, 3, activation = 'relu'))\n",
    "model.add(Conv2D(32, 3, activation = 'relu'))\n",
    "model.add(MaxPool2D())\n",
    "\n",
    "model.add(BatchNormalization())\n",
    "model.add(Dropout(0.2))\n",
    "\n",
    "model.add(Conv2D(64, 3, activation = 'relu'))\n",
    "model.add(Conv2D(64, 3, activation = 'relu'))\n",
    "model.add(Conv2D(64, 3, activation = 'relu'))\n",
    "model.add(MaxPool2D())\n",
    "\n",
    "model.add(BatchNormalization())\n",
    "model.add(Dropout(0.2))\n",
    "\n",
    "model.add(Flatten())\n",
    "model.add(Dense(32, activation = 'relu'))\n",
    "\n",
    "model.add(BatchNormalization())\n",
    "model.add(Dropout(0.2))\n",
    "\n",
    "model.add(Dense(32, activation = 'relu'))\n",
    "\n",
    "model.add(BatchNormalization())\n",
    "model.add(Dropout(0.2))\n",
    "\n",
    "model.add(Dense(8, activation = 'sigmoid'))\n",
    "\n",
    "model.compile(loss = 'mean_squared_error', optimizer = 'adam', metrics = ['mae'])\n",
    "\n",
    "model.summary()"
   ]
  },
  {
   "cell_type": "code",
   "execution_count": null,
   "metadata": {},
   "outputs": [],
   "source": [
    "hist = model.fit(imgs, labels, epochs = 50, batch_size = 10)\n",
    "hist"
   ]
  },
  {
   "cell_type": "code",
   "execution_count": null,
   "metadata": {},
   "outputs": [],
   "source": [
    "%matplotlib inline\n",
    "\n",
    "import matplotlib.pyplot as plt\n",
    "\n",
    "plt.plot(hist.history['loss'])"
   ]
  },
  {
   "cell_type": "code",
   "execution_count": null,
   "metadata": {},
   "outputs": [],
   "source": [
    "import cv2\n",
    "\n",
    "def scale(d):\n",
    "    for i in range(len(d)):\n",
    "        n = 2 if i % 2 == 0 else 1\n",
    "        d[i] *= imgs.shape[n]\n",
    "\n",
    "    return d\n",
    "        \n",
    "\n",
    "def predict(i, s = 8.0):\n",
    "    plt.rcParams['figure.figsize'] = (s, s)\n",
    "    \n",
    "    r = scale(np.copy(labels[i])).astype(np.int32)\n",
    "    p = scale(model.predict(np.array([imgs[i]]))[0]).astype(np.int32)\n",
    "   \n",
    "    img = cv2.imread(f\"img/{df['image'][i]}\")\n",
    "    \n",
    "    print(r)\n",
    "    print(p)\n",
    "    \n",
    "    line_size = 3\n",
    "    r_color = (0, 255, 0)\n",
    "    p_color = (0, 0, 255)\n",
    "    \n",
    "    img = cv2.line(img, (r[0], r[1]), (r[2], r[3]), r_color, line_size)\n",
    "    img = cv2.line(img, (r[4], r[5]), (r[6], r[7]), r_color, line_size)\n",
    "    \n",
    "    img = cv2.line(img, (p[0], p[1]), (p[2], p[3]), p_color, line_size)\n",
    "    img = cv2.line(img, (p[4], p[5]), (p[6], p[7]), p_color, line_size)\n",
    "    \n",
    "    plt.imshow(cv2.cvtColor(img, cv2.COLOR_BGR2RGB))\n"
   ]
  },
  {
   "cell_type": "code",
   "execution_count": null,
   "metadata": {},
   "outputs": [],
   "source": [
    "predict(0)"
   ]
  },
  {
   "cell_type": "code",
   "execution_count": null,
   "metadata": {},
   "outputs": [],
   "source": [
    "predict(2)"
   ]
  },
  {
   "cell_type": "code",
   "execution_count": null,
   "metadata": {},
   "outputs": [],
   "source": [
    "predict(3)"
   ]
  },
  {
   "cell_type": "code",
   "execution_count": null,
   "metadata": {},
   "outputs": [],
   "source": [
    "predict(4)"
   ]
  },
  {
   "cell_type": "code",
   "execution_count": null,
   "metadata": {},
   "outputs": [],
   "source": [
    "predict(39)"
   ]
  }
 ],
 "metadata": {
  "kernelspec": {
   "display_name": "Python 3",
   "language": "python",
   "name": "python3"
  },
  "language_info": {
   "codemirror_mode": {
    "name": "ipython",
    "version": 3
   },
   "file_extension": ".py",
   "mimetype": "text/x-python",
   "name": "python",
   "nbconvert_exporter": "python",
   "pygments_lexer": "ipython3",
   "version": "3.6.5"
  }
 },
 "nbformat": 4,
 "nbformat_minor": 2
}
