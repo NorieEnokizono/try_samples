{
 "cells": [
  {
   "cell_type": "code",
   "execution_count": null,
   "metadata": {},
   "outputs": [],
   "source": [
    "import pandas as pd\n",
    "\n",
    "df = pd.read_csv('data/data4.tsv', delimiter = '\\t')\n",
    "\n",
    "df"
   ]
  },
  {
   "cell_type": "code",
   "execution_count": null,
   "metadata": {},
   "outputs": [],
   "source": [
    "import numpy as np\n",
    "import os\n",
    "\n",
    "def load_contours_csv(file, size = 500):\n",
    "    d = np.loadtxt(file, delimiter = ',')[:size]\n",
    "    return np.pad(d, ((size - len(d), 0), (0, 0)), 'constant', constant_values = ([0, 0], [0, 0]))\n",
    "\n",
    "points = np.array([load_contours_csv(f\"data/img/{os.path.splitext(os.path.basename(i))[0]}.csv\") for i in df['image'].values])\n",
    "\n",
    "points.shape\n"
   ]
  },
  {
   "cell_type": "code",
   "execution_count": null,
   "metadata": {},
   "outputs": [],
   "source": [
    "import cv2\n",
    "\n",
    "cols = ['x1', 'y1', 'x2', 'y2', 'x3', 'y3', 'x4', 'y4', 'x5', 'y5', 'x6', 'y6', 'x7', 'y7', 'x8', 'y8']\n",
    "\n",
    "f_img = cv2.imread(df['image'][0])\n",
    "\n",
    "w = f_img.shape[1]\n",
    "h = f_img.shape[0]\n",
    "\n",
    "dv = df[cols].astype(np.float)\n",
    "\n",
    "for i in range(0, len(cols), 2):\n",
    "    dv[cols[i]] /= w\n",
    "    dv[cols[i + 1]] /= h\n",
    "\n",
    "labels = dv.values\n",
    "\n",
    "labels.shape"
   ]
  },
  {
   "cell_type": "code",
   "execution_count": null,
   "metadata": {},
   "outputs": [],
   "source": [
    "labels[0]"
   ]
  },
  {
   "cell_type": "code",
   "execution_count": null,
   "metadata": {},
   "outputs": [],
   "source": [
    "from keras.models import Model\n",
    "from keras.layers import Input, Dense, Dropout, GRU, Masking\n",
    "from keras.layers.normalization import BatchNormalization\n",
    "from keras.layers.wrappers import Bidirectional\n",
    "\n",
    "input = Input(shape = imgs.shape[1:])\n",
    "\n",
    "x = Masking()(input)\n",
    "\n",
    "x = Bidirectional(GRU(256))(x)\n",
    "x = Dropout(0.2)(x)\n",
    "\n",
    "x = Dense(128, activation = 'relu')(x)\n",
    "x = Dropout(0.2)(x)\n",
    "\n",
    "x = Dense(128, activation = 'relu')(x)\n",
    "x = Dropout(0.2)(x)\n",
    "\n",
    "x = Dense(64, activation = 'relu')(x)\n",
    "x = Dropout(0.2)(x)\n",
    "\n",
    "output = Dense(16, activation = 'sigmoid')(x)\n",
    "\n",
    "model = Model(inputs = input, outputs = output)\n",
    "          \n",
    "model.compile(loss = 'mse', optimizer = 'adam', metrics = ['mae'])\n",
    "\n",
    "model.summary()"
   ]
  },
  {
   "cell_type": "code",
   "execution_count": null,
   "metadata": {},
   "outputs": [],
   "source": [
    "hist = model.fit(points, labels, epochs = 50, batch_size = 10)\n",
    "hist"
   ]
  },
  {
   "cell_type": "code",
   "execution_count": null,
   "metadata": {},
   "outputs": [],
   "source": [
    "%matplotlib inline\n",
    "\n",
    "import matplotlib.pyplot as plt\n",
    "\n",
    "plt.rcParams['figure.figsize'] = (8.0, 4.0)\n",
    "\n",
    "plt.subplot(1, 2, 1)\n",
    "plt.plot(hist.history['loss'])\n",
    "\n",
    "plt.subplot(1, 2, 2)\n",
    "plt.plot(hist.history['mean_absolute_error'])\n"
   ]
  },
  {
   "cell_type": "code",
   "execution_count": null,
   "metadata": {},
   "outputs": [],
   "source": [
    "model.save('model/rnn-1_0.h5')"
   ]
  },
  {
   "cell_type": "code",
   "execution_count": null,
   "metadata": {},
   "outputs": [],
   "source": [
    "def scale(d):\n",
    "    for i in range(0, len(d), 2):\n",
    "        d[i] *= w\n",
    "        d[i + 1] *= h\n",
    "        \n",
    "    return d\n",
    "\n",
    "def predict(i, s = 6.0):\n",
    "    plt.rcParams['figure.figsize'] = (s, s)\n",
    "\n",
    "    img = cv2.imread(df['image'][i])\n",
    "    \n",
    "    r = scale(np.copy(labels[i])).astype(int)\n",
    "    p = scale(model.predict(np.array([points[i]]))[0]).astype(int)\n",
    "   \n",
    "    print(r)\n",
    "    print(p)\n",
    "    \n",
    "    line_size = 3\n",
    "    \n",
    "    r_color = (0, 255, 0)\n",
    "    p_color = (255, 0, 0)\n",
    "\n",
    "    for i in range(0, len(r), 4):\n",
    "        img = cv2.line(img, (r[i], r[i + 1]), (r[i + 2], r[i + 3]), r_color, line_size)\n",
    "        img = cv2.line(img, (p[i], p[i + 1]), (p[i + 2], p[i + 3]), p_color, line_size)\n",
    "                       \n",
    "    plt.imshow(img)\n",
    "    "
   ]
  },
  {
   "cell_type": "code",
   "execution_count": null,
   "metadata": {},
   "outputs": [],
   "source": [
    "predict(0)"
   ]
  },
  {
   "cell_type": "code",
   "execution_count": null,
   "metadata": {},
   "outputs": [],
   "source": [
    "predict(1)"
   ]
  },
  {
   "cell_type": "code",
   "execution_count": null,
   "metadata": {},
   "outputs": [],
   "source": [
    "predict(2)"
   ]
  },
  {
   "cell_type": "code",
   "execution_count": null,
   "metadata": {},
   "outputs": [],
   "source": [
    "predict(3)"
   ]
  },
  {
   "cell_type": "code",
   "execution_count": null,
   "metadata": {},
   "outputs": [],
   "source": [
    "predict(4)"
   ]
  }
 ],
 "metadata": {
  "kernelspec": {
   "display_name": "Python 3",
   "language": "python",
   "name": "python3"
  },
  "language_info": {
   "codemirror_mode": {
    "name": "ipython",
    "version": 3
   },
   "file_extension": ".py",
   "mimetype": "text/x-python",
   "name": "python",
   "nbconvert_exporter": "python",
   "pygments_lexer": "ipython3",
   "version": "3.6.5"
  }
 },
 "nbformat": 4,
 "nbformat_minor": 2
}
