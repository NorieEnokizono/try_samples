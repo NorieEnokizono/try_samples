{
 "cells": [
  {
   "cell_type": "code",
   "execution_count": null,
   "metadata": {},
   "outputs": [],
   "source": [
    "import pandas as pd\n",
    "\n",
    "df = pd.read_csv('data/data4.tsv', delimiter = '\\t')\n",
    "\n",
    "df"
   ]
  },
  {
   "cell_type": "code",
   "execution_count": null,
   "metadata": {},
   "outputs": [],
   "source": [
    "import numpy as np\n",
    "from keras.preprocessing.image import load_img, img_to_array\n",
    "\n",
    "imgs = np.array([ img_to_array(load_img(i)) for i in df['image'].values ])\n",
    "\n",
    "imgs.shape"
   ]
  },
  {
   "cell_type": "code",
   "execution_count": null,
   "metadata": {},
   "outputs": [],
   "source": [
    "import cv2\n",
    "\n",
    "cols = ['x1', 'y1', 'x2', 'y2', 'x3', 'y3', 'x4', 'y4', 'x5', 'y5', 'x6', 'y6', 'x7', 'y7', 'x8', 'y8']\n",
    "\n",
    "w = imgs.shape[2]\n",
    "h = imgs.shape[1]\n",
    "\n",
    "dv = df[cols].astype(np.float)\n",
    "\n",
    "for i in range(0, len(cols), 2):\n",
    "    dv[cols[i]] /= w\n",
    "    dv[cols[i + 1]] /= h\n",
    "\n",
    "labels = dv.values\n",
    "\n",
    "labels.shape"
   ]
  },
  {
   "cell_type": "code",
   "execution_count": null,
   "metadata": {},
   "outputs": [],
   "source": [
    "labels[0]"
   ]
  },
  {
   "cell_type": "code",
   "execution_count": null,
   "metadata": {},
   "outputs": [],
   "source": [
    "from keras.models import Model\n",
    "from keras.layers import Input, Dense, Flatten, Dropout, Reshape, GRU, Conv2D, MaxPool2D, Permute, LeakyReLU, concatenate\n",
    "from keras.layers.normalization import BatchNormalization\n",
    "from keras.layers.wrappers import Bidirectional, TimeDistributed\n",
    "\n",
    "input = Input(shape = imgs.shape[1:])\n",
    "\n",
    "x = input\n",
    "\n",
    "x = BatchNormalization()(x)\n",
    "\n",
    "x = Conv2D(16, 3, padding = 'same', activation = 'relu')(x)\n",
    "x = MaxPool2D()(x)\n",
    "\n",
    "x = BatchNormalization()(x)\n",
    "x = Dropout(0.3)(x)\n",
    "\n",
    "x = Conv2D(32, 3, padding = 'same', activation = 'relu')(x)\n",
    "x = Conv2D(32, 3, padding = 'same', activation = 'relu')(x)\n",
    "x = MaxPool2D()(x)\n",
    "\n",
    "x = BatchNormalization()(x)\n",
    "x = Dropout(0.3)(x)\n",
    "\n",
    "x = Conv2D(64, 3, padding = 'same', activation = 'relu')(x)\n",
    "x = Conv2D(64, 3, padding = 'same', activation = 'relu')(x)\n",
    "x = Conv2D(64, 3, padding = 'same', activation = 'relu')(x)\n",
    "x = MaxPool2D()(x)\n",
    "\n",
    "x = BatchNormalization()(x)\n",
    "x = Dropout(0.3)(x)\n",
    "\n",
    "x = Conv2D(128, 3, padding = 'same', activation = 'relu')(x)\n",
    "x = Conv2D(128, 3, padding = 'same', activation = 'relu')(x)\n",
    "x = MaxPool2D()(x)\n",
    "\n",
    "x = BatchNormalization()(x)\n",
    "x = Dropout(0.3)(x)\n",
    "\n",
    "sh = (int(x.shape[1]), int(x.shape[2]))\n",
    "\n",
    "x = Conv2D(1, 1, activation = 'relu')(x)\n",
    "\n",
    "x = Reshape(sh)(x)\n",
    "\n",
    "x1 = x\n",
    "x1 = Bidirectional(GRU(128, return_sequences = True, activation = 'relu'))(x1)\n",
    "x1 = TimeDistributed(Dense(sh[1] * 64))(x1)\n",
    "x1 = TimeDistributed(Dense(sh[1] * 64))(x1)\n",
    "x1 = LeakyReLU()(x1)\n",
    "x1 = Reshape(sh + (-1,))(x1)\n",
    "\n",
    "x2 = Permute((2, 1))(x)\n",
    "x2 = Bidirectional(GRU(128, return_sequences = True, activation = 'relu'))(x2)\n",
    "x2 = TimeDistributed(Dense(sh[0] * 64))(x2)\n",
    "x2 = TimeDistributed(Dense(sh[0] * 64))(x2)\n",
    "x2 = LeakyReLU()(x2)\n",
    "x2 = Permute((2, 1))(x2)\n",
    "x2 = Reshape(sh + (-1,))(x2)\n",
    "\n",
    "x = concatenate([x1, x2])\n",
    "\n",
    "x = Flatten()(x)\n",
    "\n",
    "x = Dense(512, activation = 'relu')(x)\n",
    "x = Dense(512, activation = 'relu')(x)\n",
    "\n",
    "x = Dropout(0.3)(x)\n",
    "\n",
    "output = Dense(labels.shape[-1], activation = 'sigmoid')(x)\n",
    "\n",
    "model = Model(inputs = input, outputs = output)\n",
    "\n",
    "model.compile(loss = 'mse', optimizer = 'adam', metrics = ['mae'])\n",
    "\n",
    "model.summary()"
   ]
  },
  {
   "cell_type": "code",
   "execution_count": null,
   "metadata": {},
   "outputs": [],
   "source": [
    "hist = model.fit(imgs, labels, initial_epoch = 0, epochs = 100, batch_size = 10)\n",
    "hist"
   ]
  },
  {
   "cell_type": "code",
   "execution_count": null,
   "metadata": {},
   "outputs": [],
   "source": [
    "%matplotlib inline\n",
    "\n",
    "import matplotlib.pyplot as plt\n",
    "\n",
    "plt.rcParams['figure.figsize'] = (8.0, 4.0)\n",
    "\n",
    "plt.subplot(1, 2, 1)\n",
    "plt.plot(hist.history['loss'])\n",
    "\n",
    "plt.subplot(1, 2, 2)\n",
    "plt.plot(hist.history['mean_absolute_error'])\n"
   ]
  },
  {
   "cell_type": "code",
   "execution_count": null,
   "metadata": {},
   "outputs": [],
   "source": [
    "model.save('model/cnn-rnn-1_0.h5')"
   ]
  },
  {
   "cell_type": "code",
   "execution_count": null,
   "metadata": {},
   "outputs": [],
   "source": [
    "def scale(d):\n",
    "    for i in range(0, len(d), 2):\n",
    "        d[i] *= w\n",
    "        d[i + 1] *= h\n",
    "        \n",
    "    return d\n",
    "\n",
    "def predict(i, s = 6.0):\n",
    "    plt.rcParams['figure.figsize'] = (s, s)\n",
    "\n",
    "    img = imgs[i]\n",
    "    \n",
    "    r = scale(np.copy(labels[i])).astype(int)\n",
    "    p = scale(model.predict(np.array([img]))[0]).astype(int)\n",
    "   \n",
    "    print(r)\n",
    "    print(p)\n",
    "    \n",
    "    line_size = 3\n",
    "    \n",
    "    r_color = (0, 255, 0)\n",
    "    p_color = (255, 0, 0)\n",
    "\n",
    "    img = img.astype(int)\n",
    "    \n",
    "    for i in range(0, len(r), 4):\n",
    "        img = cv2.line(img, (r[i], r[i + 1]), (r[i + 2], r[i + 3]), r_color, line_size)\n",
    "        img = cv2.line(img, (p[i], p[i + 1]), (p[i + 2], p[i + 3]), p_color, line_size)\n",
    "                       \n",
    "    plt.imshow(img)\n",
    "    "
   ]
  },
  {
   "cell_type": "code",
   "execution_count": null,
   "metadata": {},
   "outputs": [],
   "source": [
    "predict(0)"
   ]
  },
  {
   "cell_type": "code",
   "execution_count": null,
   "metadata": {},
   "outputs": [],
   "source": [
    "predict(1)"
   ]
  },
  {
   "cell_type": "code",
   "execution_count": null,
   "metadata": {},
   "outputs": [],
   "source": [
    "predict(2)"
   ]
  },
  {
   "cell_type": "code",
   "execution_count": null,
   "metadata": {},
   "outputs": [],
   "source": [
    "predict(3)"
   ]
  },
  {
   "cell_type": "code",
   "execution_count": null,
   "metadata": {},
   "outputs": [],
   "source": [
    "predict(4)"
   ]
  }
 ],
 "metadata": {
  "kernelspec": {
   "display_name": "Python 3",
   "language": "python",
   "name": "python3"
  },
  "language_info": {
   "codemirror_mode": {
    "name": "ipython",
    "version": 3
   },
   "file_extension": ".py",
   "mimetype": "text/x-python",
   "name": "python",
   "nbconvert_exporter": "python",
   "pygments_lexer": "ipython3",
   "version": "3.6.5"
  }
 },
 "nbformat": 4,
 "nbformat_minor": 2
}
