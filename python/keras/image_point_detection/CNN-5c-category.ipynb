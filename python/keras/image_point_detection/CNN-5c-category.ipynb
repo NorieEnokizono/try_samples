{
 "cells": [
  {
   "cell_type": "code",
   "execution_count": null,
   "metadata": {},
   "outputs": [],
   "source": [
    "import pandas as pd\n",
    "\n",
    "df = pd.read_csv('data/data4.tsv', delimiter = '\\t')\n",
    "\n",
    "df"
   ]
  },
  {
   "cell_type": "code",
   "execution_count": null,
   "metadata": {},
   "outputs": [],
   "source": [
    "import numpy as np\n",
    "from keras.preprocessing.image import load_img, img_to_array\n",
    "\n",
    "imgs = np.array([ img_to_array(load_img(i)) for i in df['image'].values ])\n",
    "\n",
    "imgs.shape"
   ]
  },
  {
   "cell_type": "code",
   "execution_count": null,
   "metadata": {},
   "outputs": [],
   "source": [
    "cols = ['x1', 'y1', 'x2', 'y2', 'x3', 'y3', 'x4', 'y4', 'x5', 'y5', 'x6', 'y6', 'x7', 'y7', 'x8', 'y8']\n",
    "\n",
    "prob = [1.0, 1.0, 1.0, 1.0, 0.8, 0.8, 0.6, 0.6, 0.6]\n",
    "\n",
    "def around(n):\n",
    "    #return [(x, y) for x in range(-n, n + 1) for y in range(-n, n + 1) if abs(x) + abs(y) == n]\n",
    "    return [(x, y) for x in range(-n, n + 1) for y in range(-n, n + 1) if abs(x) == n or abs(y) == n]\n",
    "\n",
    "labels = np.zeros(imgs.shape[:-1] + (int(len(cols) / 2) + 1,))\n",
    "labels[:, :, :, 0] = 1.0\n",
    "\n",
    "tmp_labels = df[cols].values\n",
    "\n",
    "for i in range(len(tmp_labels)):\n",
    "    label = labels[i]\n",
    "    ts = tmp_labels[i]\n",
    "    \n",
    "    for j in range(0, len(ts), 2):\n",
    "        x = ts[j]\n",
    "        y = ts[j + 1]\n",
    "        c = int(j / 2) + 1\n",
    "        \n",
    "        for k in range(len(prob)):\n",
    "            p = prob[k]\n",
    "            \n",
    "            for a in around(k):\n",
    "                ax = x + a[0]\n",
    "                ay = y + a[1]\n",
    "                \n",
    "                if ax >= 0 and ax < imgs.shape[2] and ay >= 0 and ay < imgs.shape[1]:\n",
    "                    label[ay, ax, :] = 0.0\n",
    "                    label[ay, ax, c] = p\n",
    "                    label[ay, ax, 0] = 1.0 - p\n",
    "        \n",
    "labels.shape"
   ]
  },
  {
   "cell_type": "code",
   "execution_count": null,
   "metadata": {},
   "outputs": [],
   "source": [
    "%matplotlib inline\n",
    "\n",
    "import matplotlib.pyplot as plt\n",
    "\n",
    "def show_label(index):\n",
    "    plt.rcParams['figure.figsize'] = (4, 4)\n",
    "    plt.imshow(labels[index, :, :, 1:].sum(axis = -1), cmap = 'gray')\n"
   ]
  },
  {
   "cell_type": "code",
   "execution_count": null,
   "metadata": {},
   "outputs": [],
   "source": [
    "show_label(0)"
   ]
  },
  {
   "cell_type": "code",
   "execution_count": null,
   "metadata": {},
   "outputs": [],
   "source": [
    "show_label(1)"
   ]
  },
  {
   "cell_type": "code",
   "execution_count": null,
   "metadata": {},
   "outputs": [],
   "source": [
    "from keras.models import Model\n",
    "from keras.layers import Input, Dense, Dropout, UpSampling2D\n",
    "from keras.layers.convolutional import Conv2D\n",
    "from keras.layers.pooling import MaxPool2D\n",
    "from keras.layers.normalization import BatchNormalization\n",
    "\n",
    "input = Input(shape = imgs.shape[1:])\n",
    "x = input\n",
    "\n",
    "x = BatchNormalization()(x)\n",
    "\n",
    "x = Conv2D(16, 3, padding = 'same', activation = 'relu')(x)\n",
    "x = Conv2D(16, 3, padding = 'same', activation = 'relu')(x)\n",
    "x = MaxPool2D()(x)\n",
    "\n",
    "x = BatchNormalization()(x)\n",
    "x = Dropout(0.3)(x)\n",
    "\n",
    "x = Conv2D(32, 3, padding = 'same', activation = 'relu')(x)\n",
    "x = Conv2D(32, 3, padding = 'same', activation = 'relu')(x)\n",
    "x = Conv2D(32, 3, padding = 'same', activation = 'relu')(x)\n",
    "x = MaxPool2D()(x)\n",
    "\n",
    "x = BatchNormalization()(x)\n",
    "x = Dropout(0.3)(x)\n",
    "\n",
    "x = Conv2D(64, 3, padding = 'same', activation = 'relu')(x)\n",
    "x = Conv2D(64, 3, padding = 'same', activation = 'relu')(x)\n",
    "x = Conv2D(64, 3, padding = 'same', activation = 'relu')(x)\n",
    "x = MaxPool2D()(x)\n",
    "\n",
    "x = BatchNormalization()(x)\n",
    "x = Dropout(0.3)(x)\n",
    "\n",
    "x = Conv2D(128, 3, padding = 'same', activation = 'relu')(x)\n",
    "\n",
    "x = BatchNormalization()(x)\n",
    "x = Dropout(0.2)(x)\n",
    "\n",
    "x = UpSampling2D()(x)\n",
    "x = Conv2D(64, 3, padding = 'same', activation = 'relu')(x)\n",
    "x = Conv2D(64, 3, padding = 'same', activation = 'relu')(x)\n",
    "x = Conv2D(64, 3, padding = 'same', activation = 'relu')(x)\n",
    "\n",
    "x = BatchNormalization()(x)\n",
    "x = Dropout(0.3)(x)\n",
    "\n",
    "x = UpSampling2D()(x)\n",
    "x = Conv2D(32, 3, padding = 'same', activation = 'relu')(x)\n",
    "x = Conv2D(32, 3, padding = 'same', activation = 'relu')(x)\n",
    "x = Conv2D(32, 3, padding = 'same', activation = 'relu')(x)\n",
    "\n",
    "x = BatchNormalization()(x)\n",
    "x = Dropout(0.3)(x)\n",
    "\n",
    "x = UpSampling2D()(x)\n",
    "x = Conv2D(16, 3, padding = 'same', activation = 'relu')(x)\n",
    "x = Conv2D(16, 3, padding = 'same', activation = 'relu')(x)\n",
    "\n",
    "x = BatchNormalization()(x)\n",
    "x = Dropout(0.3)(x)\n",
    "\n",
    "x = Dense(64, activation = 'relu')(x)\n",
    "x = Dropout(0.3)(x)\n",
    "\n",
    "output = Dense(labels.shape[-1], activation = 'softmax')(x)\n",
    "\n",
    "model = Model(inputs = input, outputs = output)\n",
    "\n",
    "model.compile(loss = 'categorical_crossentropy', optimizer = 'adam', metrics = ['acc'])\n",
    "\n",
    "model.summary()"
   ]
  },
  {
   "cell_type": "code",
   "execution_count": null,
   "metadata": {},
   "outputs": [],
   "source": [
    "from keras.models import load_model\n",
    "\n",
    "model = load_model('model/cnn-5c_1_0.h5')"
   ]
  },
  {
   "cell_type": "code",
   "execution_count": null,
   "metadata": {},
   "outputs": [],
   "source": [
    "wg = np.ones(labels.shape[-1]) * (imgs.shape[1] * imgs.shape[2])\n",
    "wg[0] = 1\n",
    "\n",
    "print(wg)\n",
    "\n",
    "hist = model.fit(imgs, labels, initial_epoch = 0, epochs = 100, batch_size = 10, class_weight = wg)\n",
    "hist"
   ]
  },
  {
   "cell_type": "code",
   "execution_count": null,
   "metadata": {},
   "outputs": [],
   "source": [
    "plt.rcParams['figure.figsize'] = (6, 3)\n",
    "\n",
    "plt.subplot(1, 2, 1)\n",
    "plt.plot(hist.history['loss'])\n",
    "\n",
    "plt.subplot(1, 2, 2)\n",
    "plt.plot(hist.history['acc'])"
   ]
  },
  {
   "cell_type": "code",
   "execution_count": null,
   "metadata": {},
   "outputs": [],
   "source": [
    "model.save('model/cnn-5c_1_0.h5')"
   ]
  },
  {
   "cell_type": "code",
   "execution_count": null,
   "metadata": {},
   "outputs": [],
   "source": [
    "import cv2\n",
    "\n",
    "color_set = [(255, 255, 255), (255, 75, 0), (255, 241, 0), (3, 175, 122), (0, 90, 255), \n",
    "              (77, 196, 255), (255, 128, 130), (246, 170, 0), (153, 0, 153), (128, 64, 0)]\n",
    "\n",
    "def predict(index, top_n = 5, circle_r = 3, s = 12.0):\n",
    "    plt.rcParams['figure.figsize'] = (s, s)\n",
    "\n",
    "    img = imgs[index]\n",
    "\n",
    "    p = model.predict(np.array([img]))[0]\n",
    "\n",
    "    img1 = np.apply_along_axis(lambda x: color_set[x.argmax()], -1, labels[index])\n",
    "    \n",
    "    plt.subplot(1, 4, 1)\n",
    "    plt.imshow(img1)\n",
    "\n",
    "    img2 = np.apply_along_axis(lambda x: color_set[x.argmax()], -1, p)\n",
    "    \n",
    "    plt.subplot(1, 4, 2)\n",
    "    plt.imshow(img2)\n",
    "\n",
    "    img3 = cv2.addWeighted(img.astype(int), 0.4, img2, 0.6, 0)\n",
    "\n",
    "    plt.subplot(1, 4, 3)\n",
    "    plt.imshow(img3)\n",
    "\n",
    "    img4 = img.astype(int)\n",
    "\n",
    "    for i in range(1, labels.shape[-1]):\n",
    "        print(f\"----- category {i} : x={tmp_labels[index, (i - 1) * 2]}, y={tmp_labels[index, (i - 1) * 2 + 1]} -----\")\n",
    "        \n",
    "        r = p[:, :, i]\n",
    "        \n",
    "        for a in np.argsort(r.flatten())[::-1][:top_n]:\n",
    "            y, x = divmod(a, imgs.shape[2])\n",
    "            \n",
    "            print(f\"index={a}, x={x}, y={y}, prob={r[y, x]}\")\n",
    "            \n",
    "            img4 = cv2.circle(img4, (x, y), circle_r, color_set[i], -1)\n",
    "\n",
    "\n",
    "    plt.subplot(1, 4, 4)\n",
    "    plt.imshow(img4)"
   ]
  },
  {
   "cell_type": "code",
   "execution_count": null,
   "metadata": {},
   "outputs": [],
   "source": [
    "def predict_eval(file, top_n = 5, circle_r = 3, s = 12.0):\n",
    "    plt.rcParams['figure.figsize'] = (s, s)\n",
    "\n",
    "    img = img_to_array(load_img(file))\n",
    "\n",
    "    p = model.predict(np.array([img]))[0]\n",
    "\n",
    "    img1 = np.apply_along_axis(lambda x: color_set[x.argmax()], -1, p)\n",
    "    \n",
    "    plt.subplot(1, 3, 1)\n",
    "    plt.imshow(img1)\n",
    "\n",
    "    img2 = cv2.addWeighted(img.astype(int), 0.4, img1, 0.6, 0)\n",
    "\n",
    "    plt.subplot(1, 3, 2)\n",
    "    plt.imshow(img2)\n",
    "\n",
    "    img3 = img.astype(int)\n",
    "\n",
    "    for i in range(1, labels.shape[-1]):\n",
    "        print(f\"----- category {i} -----\")\n",
    "        \n",
    "        r = p[:, :, i]\n",
    "        \n",
    "        for a in np.argsort(r.flatten())[::-1][:top_n]:\n",
    "            y, x = divmod(a, imgs.shape[2])\n",
    "            \n",
    "            print(f\"index={a}, x={x}, y={y}, prob={r[y, x]}\")\n",
    "            \n",
    "            img3 = cv2.circle(img3, (x, y), circle_r, color_set[i], -1)\n",
    "\n",
    "\n",
    "    plt.subplot(1, 3, 3)\n",
    "    plt.imshow(img3)"
   ]
  },
  {
   "cell_type": "code",
   "execution_count": null,
   "metadata": {},
   "outputs": [],
   "source": [
    "predict(0)"
   ]
  },
  {
   "cell_type": "code",
   "execution_count": null,
   "metadata": {},
   "outputs": [],
   "source": [
    "predict(1)"
   ]
  },
  {
   "cell_type": "code",
   "execution_count": null,
   "metadata": {},
   "outputs": [],
   "source": [
    "predict(2)"
   ]
  },
  {
   "cell_type": "code",
   "execution_count": null,
   "metadata": {},
   "outputs": [],
   "source": [
    "predict(3)"
   ]
  },
  {
   "cell_type": "code",
   "execution_count": null,
   "metadata": {},
   "outputs": [],
   "source": [
    "predict_eval('img2/01.jpg')"
   ]
  }
 ],
 "metadata": {
  "kernelspec": {
   "display_name": "Python 3",
   "language": "python",
   "name": "python3"
  },
  "language_info": {
   "codemirror_mode": {
    "name": "ipython",
    "version": 3
   },
   "file_extension": ".py",
   "mimetype": "text/x-python",
   "name": "python",
   "nbconvert_exporter": "python",
   "pygments_lexer": "ipython3",
   "version": "3.6.5"
  }
 },
 "nbformat": 4,
 "nbformat_minor": 2
}
