{
 "cells": [
  {
   "cell_type": "code",
   "execution_count": null,
   "metadata": {},
   "outputs": [],
   "source": [
    "from keras.models import load_model\n",
    "\n",
    "model = load_model('model/cnn-1.hd5')"
   ]
  },
  {
   "cell_type": "code",
   "execution_count": null,
   "metadata": {},
   "outputs": [],
   "source": [
    "import glob\n",
    "\n",
    "files = glob.glob('img_eval/*.jpg')"
   ]
  },
  {
   "cell_type": "code",
   "execution_count": null,
   "metadata": {},
   "outputs": [],
   "source": [
    "import numpy as np\n",
    "from keras.preprocessing.image import load_img, img_to_array\n",
    "\n",
    "imgs = np.array([ img_to_array(load_img(f, color_mode = 'grayscale')) for f in files ])\n",
    "\n",
    "imgs.shape"
   ]
  },
  {
   "cell_type": "code",
   "execution_count": null,
   "metadata": {},
   "outputs": [],
   "source": [
    "%matplotlib inline\n",
    "\n",
    "import matplotlib.pyplot as plt\n",
    "import cv2\n",
    "\n",
    "def predict(i, s = 8.0):\n",
    "    plt.rcParams['figure.figsize'] = (s, s)\n",
    "    line_size = 3\n",
    "    p_color = (0, 0, 255)\n",
    "    \n",
    "    res = model.predict(np.array([imgs[i]])).flatten().tolist()\n",
    "    \n",
    "    p = list(map(int, res))\n",
    "    \n",
    "    img = cv2.imread(files[i])\n",
    "    \n",
    "    print(p)\n",
    "    \n",
    "    img = cv2.line(img, (p[0], p[1]), (p[2], p[3]), p_color, line_size)\n",
    "    img = cv2.line(img, (p[4], p[5]), (p[6], p[7]), p_color, line_size)\n",
    "    \n",
    "    plt.imshow(cv2.cvtColor(img, cv2.COLOR_BGR2RGB))\n"
   ]
  },
  {
   "cell_type": "code",
   "execution_count": null,
   "metadata": {},
   "outputs": [],
   "source": [
    "predict(0)"
   ]
  },
  {
   "cell_type": "code",
   "execution_count": null,
   "metadata": {},
   "outputs": [],
   "source": [
    "predict(1)"
   ]
  }
 ],
 "metadata": {
  "kernelspec": {
   "display_name": "Python 3",
   "language": "python",
   "name": "python3"
  },
  "language_info": {
   "codemirror_mode": {
    "name": "ipython",
    "version": 3
   },
   "file_extension": ".py",
   "mimetype": "text/x-python",
   "name": "python",
   "nbconvert_exporter": "python",
   "pygments_lexer": "ipython3",
   "version": "3.6.5"
  }
 },
 "nbformat": 4,
 "nbformat_minor": 2
}
