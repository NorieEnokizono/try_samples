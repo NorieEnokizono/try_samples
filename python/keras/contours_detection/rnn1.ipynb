{
 "cells": [
  {
   "cell_type": "code",
   "execution_count": null,
   "metadata": {},
   "outputs": [],
   "source": [
    "import glob\n",
    "\n",
    "files = glob.glob('img/*.jpg')"
   ]
  },
  {
   "cell_type": "code",
   "execution_count": null,
   "metadata": {},
   "outputs": [],
   "source": [
    "import numpy as np\n",
    "from keras.preprocessing.image import load_img, img_to_array\n",
    "\n",
    "imgs = np.array([img_to_array(load_img(f)) for f in files])\n",
    "\n",
    "imgs.shape"
   ]
  },
  {
   "cell_type": "code",
   "execution_count": null,
   "metadata": {},
   "outputs": [],
   "source": [
    "import os\n",
    "\n",
    "th = 128\n",
    "\n",
    "labels = np.array([img_to_array(load_img(f\"{os.path.splitext(f)[0]}.png\", color_mode = 'grayscale')) for f in files])\n",
    "\n",
    "labels[labels < th] = 0\n",
    "labels[labels >= th] = 1\n",
    "\n",
    "labels.shape\n"
   ]
  },
  {
   "cell_type": "code",
   "execution_count": null,
   "metadata": {},
   "outputs": [],
   "source": [
    "b_len = len(labels[labels == 0])\n",
    "w_len = len(labels[labels == 1])\n",
    "\n",
    "print(f\"0 = {b_len}, 1 = {w_len}\")\n",
    "\n",
    "b_len / w_len"
   ]
  },
  {
   "cell_type": "code",
   "execution_count": null,
   "metadata": {},
   "outputs": [],
   "source": [
    "from keras.models import Model\n",
    "from keras.layers import Input, Dropout, GRU, Reshape, Bidirectional, Permute, concatenate, Dense\n",
    "from keras.layers.convolutional import Conv2D\n",
    "from keras.layers.normalization import BatchNormalization\n",
    "\n",
    "input = Input(shape = imgs.shape[1:])\n",
    "\n",
    "x = input\n",
    "\n",
    "x = BatchNormalization()(x)\n",
    "\n",
    "x = Conv2D(1, 3, padding='same', activation = 'relu')(x)\n",
    "\n",
    "x = Reshape(imgs.shape[1:-1])(x)\n",
    "\n",
    "x1 = x\n",
    "\n",
    "x1 = Bidirectional(GRU(128, return_sequences = True, activation = 'relu'))(x1)\n",
    "x1 = Bidirectional(GRU(128, return_sequences = True, activation = 'relu'))(x1)\n",
    "\n",
    "x1 = BatchNormalization()(x1)\n",
    "x1 = Dropout(0.3)(x1)\n",
    "\n",
    "x1 = Bidirectional(GRU(int(imgs.shape[2] / 2), return_sequences = True, activation = 'relu'))(x1)\n",
    "x1 = Reshape(imgs.shape[1:-1] + (1,))(x1)\n",
    "\n",
    "x2 = Permute((2, 1))(x)\n",
    "\n",
    "x2 = Bidirectional(GRU(128, return_sequences = True, activation = 'relu'))(x2)\n",
    "x2 = Bidirectional(GRU(128, return_sequences = True, activation = 'relu'))(x2)\n",
    "\n",
    "x2 = BatchNormalization()(x2)\n",
    "x2 = Dropout(0.3)(x2)\n",
    "\n",
    "x2 = Bidirectional(GRU(int(imgs.shape[1] / 2), return_sequences = True, activation = 'relu'))(x2)\n",
    "\n",
    "x2 = Permute((2, 1))(x2)\n",
    "x2 = Reshape(imgs.shape[1:-1] + (1,))(x2)\n",
    "\n",
    "x = concatenate([x1, x2])\n",
    "\n",
    "output = Dense(1, activation = 'sigmoid')(x)\n",
    "\n",
    "model = Model(inputs = input, outputs = output)\n",
    "\n",
    "model.compile(loss = 'binary_crossentropy', optimizer = 'adam', metrics = ['acc'])\n",
    "\n",
    "model.summary()"
   ]
  },
  {
   "cell_type": "code",
   "execution_count": null,
   "metadata": {},
   "outputs": [],
   "source": [
    "wg = [1, b_len / w_len]\n",
    "\n",
    "hist = model.fit(imgs, labels, initial_epoch = 0, epochs = 40, batch_size = 10, class_weight = wg)\n",
    "\n",
    "hist"
   ]
  },
  {
   "cell_type": "code",
   "execution_count": null,
   "metadata": {},
   "outputs": [],
   "source": [
    "%matplotlib inline\n",
    "\n",
    "import matplotlib.pyplot as plt\n",
    "\n",
    "plt.rcParams['figure.figsize'] = (8, 4)\n",
    "\n",
    "plt.subplot(1, 2, 1)\n",
    "plt.plot(hist.history['loss'])\n",
    "\n",
    "plt.subplot(1, 2, 2)\n",
    "plt.plot(hist.history['acc'])"
   ]
  },
  {
   "cell_type": "code",
   "execution_count": null,
   "metadata": {},
   "outputs": [],
   "source": [
    "model.save('model/r1-1_0.h5')"
   ]
  },
  {
   "cell_type": "code",
   "execution_count": null,
   "metadata": {},
   "outputs": [],
   "source": [
    "def predict(index, s = 6.0):\n",
    "    plt.rcParams['figure.figsize'] = (s, s)\n",
    "\n",
    "    sh = imgs.shape[1:-1]\n",
    "    \n",
    "    pred = model.predict(np.array([imgs[index]]))[0]\n",
    "    pred *= 255\n",
    "\n",
    "    plt.subplot(1, 3, 1)\n",
    "    plt.imshow(imgs[index].astype(int))\n",
    "\n",
    "    plt.subplot(1, 3, 2)\n",
    "    plt.imshow(labels[index].reshape(sh), cmap = 'gray')\n",
    "\n",
    "    plt.subplot(1, 3, 3)\n",
    "    plt.imshow(pred.reshape(sh).astype(int), cmap = 'gray')\n",
    "    "
   ]
  },
  {
   "cell_type": "code",
   "execution_count": null,
   "metadata": {},
   "outputs": [],
   "source": [
    "def predict_eval(file, s = 4.0):\n",
    "    plt.rcParams['figure.figsize'] = (s, s)\n",
    "\n",
    "    img = img_to_array(load_img(file))\n",
    "    \n",
    "    pred = model.predict(np.array([img]))[0]\n",
    "    pred *= 255\n",
    "\n",
    "    plt.subplot(1, 2, 1)\n",
    "    plt.imshow(img.astype(int))\n",
    "\n",
    "    plt.subplot(1, 2, 2)\n",
    "    plt.imshow(pred.reshape(pred.shape[:-1]).astype(int), cmap = 'gray')"
   ]
  },
  {
   "cell_type": "code",
   "execution_count": null,
   "metadata": {},
   "outputs": [],
   "source": [
    "predict(0)"
   ]
  },
  {
   "cell_type": "code",
   "execution_count": null,
   "metadata": {},
   "outputs": [],
   "source": [
    "predict(1)"
   ]
  },
  {
   "cell_type": "code",
   "execution_count": null,
   "metadata": {},
   "outputs": [],
   "source": [
    "predict(2)"
   ]
  },
  {
   "cell_type": "code",
   "execution_count": null,
   "metadata": {},
   "outputs": [],
   "source": [
    "predict_eval('img_eval/t01.jpg')"
   ]
  },
  {
   "cell_type": "code",
   "execution_count": null,
   "metadata": {},
   "outputs": [],
   "source": [
    "predict_eval('img_eval/t02.jpg')"
   ]
  }
 ],
 "metadata": {
  "kernelspec": {
   "display_name": "Python 3",
   "language": "python",
   "name": "python3"
  },
  "language_info": {
   "codemirror_mode": {
    "name": "ipython",
    "version": 3
   },
   "file_extension": ".py",
   "mimetype": "text/x-python",
   "name": "python",
   "nbconvert_exporter": "python",
   "pygments_lexer": "ipython3",
   "version": "3.6.5"
  }
 },
 "nbformat": 4,
 "nbformat_minor": 2
}
