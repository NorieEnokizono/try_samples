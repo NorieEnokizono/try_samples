{
 "cells": [
  {
   "cell_type": "code",
   "execution_count": null,
   "metadata": {},
   "outputs": [],
   "source": [
    "import glob\n",
    "\n",
    "files = glob.glob('img/*.jpg')"
   ]
  },
  {
   "cell_type": "code",
   "execution_count": null,
   "metadata": {},
   "outputs": [],
   "source": [
    "import numpy as np\n",
    "from keras.preprocessing.image import load_img, img_to_array\n",
    "\n",
    "imgs = np.array([img_to_array(load_img(f)) for f in files])\n",
    "\n",
    "imgs.shape"
   ]
  },
  {
   "cell_type": "code",
   "execution_count": null,
   "metadata": {},
   "outputs": [],
   "source": [
    "import os\n",
    "\n",
    "th = 128\n",
    "\n",
    "labels = np.array([img_to_array(load_img(f\"{os.path.splitext(f)[0]}_edge.png\", color_mode = 'grayscale')) for f in files])\n",
    "\n",
    "labels[labels < th] = 0\n",
    "labels[labels >= th] = 1\n",
    "\n",
    "labels.shape\n"
   ]
  },
  {
   "cell_type": "code",
   "execution_count": null,
   "metadata": {},
   "outputs": [],
   "source": [
    "b_len = len(labels[labels == 0])\n",
    "w_len = len(labels[labels == 1])\n",
    "\n",
    "print(f\"0 = {b_len}, 1 = {w_len}\")\n",
    "\n",
    "b_len / w_len"
   ]
  },
  {
   "cell_type": "code",
   "execution_count": null,
   "metadata": {},
   "outputs": [],
   "source": [
    "from keras.models import Sequential\n",
    "from keras.layers import Dropout, UpSampling2D, Activation\n",
    "from keras.layers.convolutional import Conv2D\n",
    "from keras.layers.pooling import MaxPool2D\n",
    "from keras.layers.normalization import BatchNormalization\n",
    "\n",
    "model = Sequential()\n",
    "\n",
    "model.add(BatchNormalization(input_shape = imgs.shape[1:]))\n",
    "          \n",
    "model.add(Conv2D(16, 3, padding='same', activation = 'relu'))\n",
    "model.add(MaxPool2D())\n",
    "\n",
    "model.add(BatchNormalization())\n",
    "model.add(Dropout(0.2))\n",
    "\n",
    "model.add(Conv2D(32, 3, padding='same', activation = 'relu'))\n",
    "model.add(Conv2D(32, 3, padding='same', activation = 'relu'))\n",
    "model.add(MaxPool2D())\n",
    "\n",
    "model.add(BatchNormalization())\n",
    "model.add(Dropout(0.2))\n",
    "\n",
    "model.add(Conv2D(64, 3, padding='same', activation = 'relu'))\n",
    "model.add(Conv2D(64, 3, padding='same', activation = 'relu'))\n",
    "model.add(MaxPool2D())\n",
    "\n",
    "model.add(BatchNormalization())\n",
    "model.add(Dropout(0.2))\n",
    "\n",
    "model.add(Conv2D(128, 3, padding='same', activation = 'relu'))\n",
    "\n",
    "model.add(UpSampling2D())\n",
    "model.add(Conv2D(64, 3, padding='same', activation = 'relu'))\n",
    "model.add(Conv2D(64, 3, padding='same', activation = 'relu'))\n",
    "\n",
    "model.add(BatchNormalization())\n",
    "model.add(Dropout(0.2))\n",
    "\n",
    "model.add(UpSampling2D())\n",
    "model.add(Conv2D(32, 3, padding='same', activation = 'relu'))\n",
    "model.add(Conv2D(32, 3, padding='same', activation = 'relu'))\n",
    "\n",
    "model.add(BatchNormalization())\n",
    "model.add(Dropout(0.2))\n",
    "\n",
    "model.add(UpSampling2D())\n",
    "model.add(Conv2D(16, 3, padding='same', activation = 'relu'))\n",
    "\n",
    "model.add(BatchNormalization())\n",
    "model.add(Dropout(0.2))\n",
    "\n",
    "model.add(Conv2D(1, 1, padding='valid'))\n",
    "\n",
    "model.add(Activation('sigmoid'))\n",
    "\n",
    "model.compile(loss = 'mean_squared_error', optimizer = 'adam', metrics = ['mae'])\n",
    "\n",
    "model.summary()"
   ]
  },
  {
   "cell_type": "code",
   "execution_count": null,
   "metadata": {},
   "outputs": [],
   "source": [
    "hist = model.fit(imgs, labels, epochs = 5, batch_size = 10)\n",
    "\n",
    "hist"
   ]
  },
  {
   "cell_type": "code",
   "execution_count": null,
   "metadata": {},
   "outputs": [],
   "source": [
    "%matplotlib inline\n",
    "\n",
    "import matplotlib.pyplot as plt\n",
    "\n",
    "plt.plot(hist.history['loss'])"
   ]
  },
  {
   "cell_type": "code",
   "execution_count": null,
   "metadata": {},
   "outputs": [],
   "source": [
    "model.save('model/cnn_encoder-decoder1.hd5')"
   ]
  },
  {
   "cell_type": "code",
   "execution_count": null,
   "metadata": {},
   "outputs": [],
   "source": [
    "def predict(index, s = 14.0):\n",
    "    plt.rcParams['figure.figsize'] = (s, s)\n",
    "\n",
    "    size = imgs.shape[1:-1]\n",
    "    \n",
    "    pred = model.predict(np.array([imgs[index]]))[0]\n",
    "    pred = pred * 255\n",
    "\n",
    "    plt.subplot(1, 3, 1)\n",
    "    plt.imshow(imgs[index].astype(int))\n",
    "\n",
    "    plt.subplot(1, 3, 2)\n",
    "    plt.imshow(labels[index].reshape(size), cmap = 'gray')\n",
    "\n",
    "    plt.subplot(1, 3, 3)\n",
    "    plt.imshow(pred.reshape(size), cmap = 'gray')"
   ]
  },
  {
   "cell_type": "code",
   "execution_count": null,
   "metadata": {},
   "outputs": [],
   "source": [
    "predict(0)"
   ]
  },
  {
   "cell_type": "code",
   "execution_count": null,
   "metadata": {},
   "outputs": [],
   "source": [
    "predict(1)"
   ]
  },
  {
   "cell_type": "code",
   "execution_count": null,
   "metadata": {},
   "outputs": [],
   "source": [
    "predict(2)"
   ]
  }
 ],
 "metadata": {
  "kernelspec": {
   "display_name": "Python 3",
   "language": "python",
   "name": "python3"
  },
  "language_info": {
   "codemirror_mode": {
    "name": "ipython",
    "version": 3
   },
   "file_extension": ".py",
   "mimetype": "text/x-python",
   "name": "python",
   "nbconvert_exporter": "python",
   "pygments_lexer": "ipython3",
   "version": "3.6.5"
  }
 },
 "nbformat": 4,
 "nbformat_minor": 2
}
