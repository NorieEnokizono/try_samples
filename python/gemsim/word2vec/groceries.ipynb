{
 "cells": [
  {
   "cell_type": "code",
   "execution_count": 1,
   "metadata": {},
   "outputs": [],
   "source": [
    "from gensim.models import word2vec\n",
    "\n",
    "sentences = word2vec.LineSentence('data/groceries.txt')"
   ]
  },
  {
   "cell_type": "code",
   "execution_count": 2,
   "metadata": {},
   "outputs": [],
   "source": [
    "model = word2vec.Word2Vec(sentences, iter = 500, min_count = 10)"
   ]
  },
  {
   "cell_type": "code",
   "execution_count": 3,
   "metadata": {},
   "outputs": [
    {
     "data": {
      "text/plain": [
       "[('turkey', 0.5346691608428955),\n",
       " ('ham', 0.48362135887145996),\n",
       " ('citrus_fruit', 0.4777030944824219),\n",
       " ('pip_fruit', 0.4771662950515747),\n",
       " ('chicken', 0.473264217376709),\n",
       " ('tropical_fruit', 0.4480413794517517),\n",
       " ('curd', 0.43360066413879395),\n",
       " ('onions', 0.42378467321395874),\n",
       " ('frankfurter', 0.415897011756897),\n",
       " ('butter', 0.4118388593196869)]"
      ]
     },
     "execution_count": 3,
     "metadata": {},
     "output_type": "execute_result"
    }
   ],
   "source": [
    "model.wv.most_similar(['pork'])"
   ]
  },
  {
   "cell_type": "code",
   "execution_count": 4,
   "metadata": {},
   "outputs": [
    {
     "data": {
      "text/plain": [
       "[('chicken', 0.5476158857345581),\n",
       " ('pip_fruit', 0.510686457157135),\n",
       " ('citrus_fruit', 0.4852493107318878),\n",
       " ('onions', 0.47696545720100403),\n",
       " ('sausage', 0.4632596969604492),\n",
       " ('meat', 0.45061126351356506),\n",
       " ('tropical_fruit', 0.43038880825042725),\n",
       " ('whole_milk', 0.43035203218460083),\n",
       " ('whipped/sour_cream', 0.42627644538879395),\n",
       " ('turkey', 0.41494014859199524)]"
      ]
     },
     "execution_count": 4,
     "metadata": {},
     "output_type": "execute_result"
    }
   ],
   "source": [
    "model.wv.most_similar('beef')"
   ]
  },
  {
   "cell_type": "code",
   "execution_count": 5,
   "metadata": {},
   "outputs": [
    {
     "data": {
      "text/plain": [
       "[('liquor', 0.19797058),\n",
       " ('prosecco', 0.069738224),\n",
       " ('sparkling_wine', 0.044733528),\n",
       " ('liquor_(appetizer)', 0.028634),\n",
       " ('white_wine', 0.025581764),\n",
       " ('rum', 0.023810206),\n",
       " ('tea', 0.01974846),\n",
       " ('brandy', 0.016974358),\n",
       " ('house_keeping_products', 0.016868452),\n",
       " ('tidbits', 0.015944617)]"
      ]
     },
     "execution_count": 5,
     "metadata": {},
     "output_type": "execute_result"
    }
   ],
   "source": [
    "model.predict_output_word(['bottled_beer', 'red/blush_wine'])"
   ]
  },
  {
   "cell_type": "code",
   "execution_count": 6,
   "metadata": {},
   "outputs": [
    {
     "data": {
      "text/plain": [
       "[('Instant_food_products', 0.05131628),\n",
       " ('meat_spreads', 0.028350057),\n",
       " ('canned_vegetables', 0.02785824),\n",
       " ('bathroom_cleaner', 0.02623309),\n",
       " ('pasta', 0.023944926),\n",
       " ('sweet_spreads', 0.019742757),\n",
       " ('rum', 0.019495727),\n",
       " ('mayonnaise', 0.017532615),\n",
       " ('sauces', 0.015575802),\n",
       " ('softener', 0.015541684)]"
      ]
     },
     "execution_count": 6,
     "metadata": {},
     "output_type": "execute_result"
    }
   ],
   "source": [
    "model.predict_output_word(['hamburger_meat', 'soda'])"
   ]
  },
  {
   "cell_type": "code",
   "execution_count": 7,
   "metadata": {},
   "outputs": [
    {
     "data": {
      "text/plain": [
       "[('processed_cheese', 0.21027786),\n",
       " ('hair_spray', 0.021439953),\n",
       " ('frozen_potato_products', 0.021238346),\n",
       " ('sweet_spreads', 0.020355126),\n",
       " ('condensed_milk', 0.018533614),\n",
       " ('soft_cheese', 0.017959382),\n",
       " ('spread_cheese', 0.017201949),\n",
       " ('hard_cheese', 0.01692048),\n",
       " ('honey', 0.01568072),\n",
       " ('dessert', 0.014630928)]"
      ]
     },
     "execution_count": 7,
     "metadata": {},
     "output_type": "execute_result"
    }
   ],
   "source": [
    "model.predict_output_word(['ham', 'white_bread'])"
   ]
  },
  {
   "cell_type": "code",
   "execution_count": 8,
   "metadata": {},
   "outputs": [
    {
     "data": {
      "text/plain": [
       "[('herbs', 0.024234567),\n",
       " ('liver_loaf', 0.020382937),\n",
       " ('onions', 0.019050032),\n",
       " ('turkey', 0.018266374),\n",
       " ('specialty_cheese', 0.018154046),\n",
       " ('packaged_fruit/vegetables', 0.015720222),\n",
       " ('spread_cheese', 0.01479917),\n",
       " ('frozen_fish', 0.014211356),\n",
       " ('berries', 0.014141317),\n",
       " ('nuts/prunes', 0.013030531)]"
      ]
     },
     "execution_count": 8,
     "metadata": {},
     "output_type": "execute_result"
    }
   ],
   "source": [
    "model.predict_output_word(['root_vegetables', 'other_vegetables', 'whole_milk', 'yogurt'])"
   ]
  },
  {
   "cell_type": "code",
   "execution_count": 9,
   "metadata": {},
   "outputs": [
    {
     "data": {
      "text/plain": [
       "[('flour', 0.07940076),\n",
       " ('pudding_powder', 0.050001796),\n",
       " ('baking_powder', 0.022790017),\n",
       " ('cereals', 0.02205061),\n",
       " ('cream', 0.020248242),\n",
       " ('jam', 0.018242367),\n",
       " ('Instant_food_products', 0.016521702),\n",
       " ('roll_products_', 0.015954617),\n",
       " ('sauces', 0.01508828),\n",
       " ('frozen_dessert', 0.014888518)]"
      ]
     },
     "execution_count": 9,
     "metadata": {},
     "output_type": "execute_result"
    }
   ],
   "source": [
    "model.predict_output_word(['curd', 'sugar'])"
   ]
  },
  {
   "cell_type": "code",
   "execution_count": 10,
   "metadata": {},
   "outputs": [
    {
     "data": {
      "text/plain": [
       "[('popcorn', 0.07213024),\n",
       " ('nut_snack', 0.036569893),\n",
       " ('kitchen_towels', 0.025195248),\n",
       " ('chewing_gum', 0.017510926),\n",
       " ('tidbits', 0.01710649),\n",
       " ('specialty_bar', 0.016457327),\n",
       " ('cake_bar', 0.015674839),\n",
       " ('dental_care', 0.01430732),\n",
       " ('finished_products', 0.013805098),\n",
       " ('canned_vegetables', 0.013581929)]"
      ]
     },
     "execution_count": 10,
     "metadata": {},
     "output_type": "execute_result"
    }
   ],
   "source": [
    "model.predict_output_word(['soda', 'salty_snack'])"
   ]
  },
  {
   "cell_type": "code",
   "execution_count": 11,
   "metadata": {},
   "outputs": [
    {
     "data": {
      "text/plain": [
       "[('flour', 0.10866481),\n",
       " ('pudding_powder', 0.065971844),\n",
       " ('cooking_chocolate', 0.03960717),\n",
       " ('rice', 0.03666494),\n",
       " ('vinegar', 0.02258706),\n",
       " ('soups', 0.022316474),\n",
       " ('cocoa_drinks', 0.021146132),\n",
       " ('meat_spreads', 0.020928469),\n",
       " ('salt', 0.019873263),\n",
       " ('specialty_fat', 0.019028228)]"
      ]
     },
     "execution_count": 11,
     "metadata": {},
     "output_type": "execute_result"
    }
   ],
   "source": [
    "model.predict_output_word(['sugar', 'baking_powder'])"
   ]
  },
  {
   "cell_type": "code",
   "execution_count": 12,
   "metadata": {},
   "outputs": [
    {
     "name": "stdout",
     "output_type": "stream",
     "text": [
      "-0.004702939841396327\n",
      "0.005525113270155493\n",
      "0.10728827263327184\n"
     ]
    }
   ],
   "source": [
    "print( model.wv.similarity('bottled_beer', 'red/blush_wine') )\n",
    "print( model.wv.similarity('bottled_beer', 'liquor') )\n",
    "print( model.wv.similarity('red/blush_wine', 'liquor') )"
   ]
  },
  {
   "cell_type": "code",
   "execution_count": 13,
   "metadata": {},
   "outputs": [
    {
     "name": "stdout",
     "output_type": "stream",
     "text": [
      "-0.15367850927726345\n",
      "-0.2154847465911408\n",
      "0.041070670637925244\n"
     ]
    }
   ],
   "source": [
    "print( model.wv.similarity('hamburger_meat', 'soda') )\n",
    "print( model.wv.similarity('hamburger_meat', 'Instant_food_products') )\n",
    "print( model.wv.similarity('soda', 'Instant_food_products') )"
   ]
  },
  {
   "cell_type": "code",
   "execution_count": 14,
   "metadata": {},
   "outputs": [
    {
     "name": "stdout",
     "output_type": "stream",
     "text": [
      "0.06907582171827166\n",
      "0.15916877271399876\n",
      "-0.15978167328094206\n"
     ]
    }
   ],
   "source": [
    "print( model.wv.similarity('ham', 'white_bread') )\n",
    "print( model.wv.similarity('ham', 'processed_cheese') )\n",
    "print( model.wv.similarity('white_bread', 'processed_cheese') )"
   ]
  },
  {
   "cell_type": "code",
   "execution_count": 15,
   "metadata": {},
   "outputs": [],
   "source": [
    "from collections import Counter\n",
    "import itertools\n",
    "\n",
    "tri_counter = Counter([c for ws in sentences for c in itertools.combinations(sorted(ws), 3)])"
   ]
  },
  {
   "cell_type": "code",
   "execution_count": 16,
   "metadata": {},
   "outputs": [
    {
     "data": {
      "text/plain": [
       "[(('white_bread', 'ham'), 'processed_cheese', 0.21027786),\n",
       " (('bottled_beer', 'red/blush_wine'), 'liquor', 0.19797058),\n",
       " (('bottled_beer', 'liquor'), 'red/blush_wine', 0.14986311),\n",
       " (('sugar', 'baking_powder'), 'flour', 0.10866481),\n",
       " (('curd', 'sugar'), 'flour', 0.07940076),\n",
       " (('soda', 'ham'), 'processed_cheese', 0.07328585),\n",
       " (('rolls/buns', 'hamburger_meat'), 'Instant_food_products', 0.07258417),\n",
       " (('margarine', 'sugar'), 'flour', 0.07237357),\n",
       " (('soda', 'salty_snack'), 'popcorn', 0.07213024),\n",
       " (('flour', 'sugar'), 'baking_powder', 0.067636095),\n",
       " (('flour', 'baking_powder'), 'sugar', 0.06714855),\n",
       " (('soda', 'popcorn'), 'salty_snack', 0.06605672),\n",
       " (('sugar', 'whipped/sour_cream'), 'flour', 0.06347879),\n",
       " (('tropical_fruit', 'white_bread'), 'processed_cheese', 0.06131325),\n",
       " (('white_bread', 'processed_cheese'), 'ham', 0.05810209),\n",
       " (('whole_milk', 'Instant_food_products'), 'hamburger_meat', 0.057413436),\n",
       " (('citrus_fruit', 'sugar'), 'flour', 0.057178356),\n",
       " (('white_bread', 'soda'), 'processed_cheese', 0.05671471),\n",
       " (('sugar', 'whipped/sour_cream'), 'baking_powder', 0.05658999),\n",
       " (('whole_milk', 'ham'), 'processed_cheese', 0.05656821),\n",
       " (('fruit/vegetable_juice', 'ham'), 'processed_cheese', 0.056511443),\n",
       " (('sugar', 'root_vegetables'), 'flour', 0.05650548),\n",
       " (('red/blush_wine', 'liquor'), 'bottled_beer', 0.055970855),\n",
       " (('beef', 'root_vegetables'), 'herbs', 0.0558672),\n",
       " (('processed_cheese', 'ham'), 'white_bread', 0.0549694),\n",
       " (('pip_fruit', 'white_bread'), 'processed_cheese', 0.054317694),\n",
       " (('soda', 'hamburger_meat'), 'Instant_food_products', 0.05131628),\n",
       " (('margarine', 'flour'), 'sugar', 0.0504087)]"
      ]
     },
     "execution_count": 16,
     "metadata": {},
     "output_type": "execute_result"
    }
   ],
   "source": [
    "pairs = itertools.combinations(model.wv.vocab.keys(), 2)\n",
    "\n",
    "sorted([\n",
    "    (p, item, prob) for p in pairs for item, prob in model.predict_output_word(p)\n",
    "    if prob >= 0.05 and tri_counter[tuple(sorted([p[0], p[1], item]))] >= 10\n",
    "], key = lambda x: -x[2])\n"
   ]
  }
 ],
 "metadata": {
  "kernelspec": {
   "display_name": "Python 3",
   "language": "python",
   "name": "python3"
  },
  "language_info": {
   "codemirror_mode": {
    "name": "ipython",
    "version": 3
   },
   "file_extension": ".py",
   "mimetype": "text/x-python",
   "name": "python",
   "nbconvert_exporter": "python",
   "pygments_lexer": "ipython3",
   "version": "3.6.4"
  }
 },
 "nbformat": 4,
 "nbformat_minor": 2
}
