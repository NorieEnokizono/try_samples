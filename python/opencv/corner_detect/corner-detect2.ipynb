{
 "cells": [
  {
   "cell_type": "code",
   "execution_count": null,
   "metadata": {},
   "outputs": [],
   "source": [
    "%matplotlib inline\n",
    "\n",
    "import cv2\n",
    "import matplotlib.pyplot as plt\n",
    "import numpy as np"
   ]
  },
  {
   "cell_type": "code",
   "execution_count": null,
   "metadata": {},
   "outputs": [],
   "source": [
    "def img_binary(file, thres = 0):\n",
    "    img = cv2.imread(file, 0)\n",
    "\n",
    "    flag = cv2.THRESH_BINARY_INV\n",
    "\n",
    "    if thres == 0:\n",
    "        flag += cv2.THRESH_OTSU\n",
    "    \n",
    "    blur = cv2.GaussianBlur(img, (3, 3), 0)\n",
    "    \n",
    "    ret, th = cv2.threshold(blur, thres, 255, flag)\n",
    "    \n",
    "    return th\n",
    "\n",
    "def contours(file, thres = 0, mth = cv2.CHAIN_APPROX_SIMPLE):\n",
    "    img = img_binary(file, thres)\n",
    "    \n",
    "    _, c, _ = cv2.findContours(img, cv2.RETR_EXTERNAL, mth)\n",
    "    \n",
    "    return c"
   ]
  },
  {
   "cell_type": "code",
   "execution_count": null,
   "metadata": {},
   "outputs": [],
   "source": [
    "def approx_contours(pts, rate = 0.01):\n",
    "    return cv2.approxPolyDP(pts, rate * cv2.arcLength(pts, True), True)"
   ]
  },
  {
   "cell_type": "code",
   "execution_count": null,
   "metadata": {},
   "outputs": [],
   "source": [
    "def draw_approx_contours(file, thres = 0, rate = 0.01, c_size = 10, color = (0, 0, 255), s = 8.):\n",
    "    plt.rcParams['figure.figsize'] = (s, s)\n",
    "    \n",
    "    cts = contours(file, thres)\n",
    "    \n",
    "    c = cts[np.argmax([len(c) for c in cts])]\n",
    "\n",
    "    a = approx_contours(c, rate)\n",
    "    \n",
    "    print(a)\n",
    "    \n",
    "    img = cv2.imread(file)\n",
    "    img = cv2.drawContours(img, a, -1, color, c_size)\n",
    "    \n",
    "    plt.imshow(cv2.cvtColor(img, cv2.COLOR_BGR2RGB))\n",
    "    "
   ]
  },
  {
   "cell_type": "code",
   "execution_count": null,
   "metadata": {},
   "outputs": [],
   "source": [
    "draw_approx_contours('img/01.jpg')"
   ]
  },
  {
   "cell_type": "code",
   "execution_count": null,
   "metadata": {},
   "outputs": [],
   "source": [
    "draw_approx_contours('img/05.jpg', 250, 0.02)"
   ]
  }
 ],
 "metadata": {
  "kernelspec": {
   "display_name": "Python 3",
   "language": "python",
   "name": "python3"
  },
  "language_info": {
   "codemirror_mode": {
    "name": "ipython",
    "version": 3
   },
   "file_extension": ".py",
   "mimetype": "text/x-python",
   "name": "python",
   "nbconvert_exporter": "python",
   "pygments_lexer": "ipython3",
   "version": "3.6.5"
  }
 },
 "nbformat": 4,
 "nbformat_minor": 2
}
