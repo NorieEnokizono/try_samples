{
 "cells": [
  {
   "cell_type": "code",
   "execution_count": null,
   "metadata": {},
   "outputs": [],
   "source": [
    "%matplotlib inline\n",
    "\n",
    "import cv2\n",
    "import matplotlib.pyplot as plt\n",
    "\n",
    "def detect(detector, imgfile, s = 8.0):\n",
    "    plt.rcParams['figure.figsize'] = (s, s)\n",
    " \n",
    "    img = cv2.imread(imgfile)\n",
    "\n",
    "    pt = detector.detect(img)\n",
    "\n",
    "    img2 = cv2.drawKeypoints(img, pt, None, color = (0, 0, 255))\n",
    "\n",
    "    plt.imshow(cv2.cvtColor(img2, cv2.COLOR_BGR2RGB))"
   ]
  },
  {
   "cell_type": "code",
   "execution_count": null,
   "metadata": {},
   "outputs": [],
   "source": [
    "import numpy as np\n",
    "\n",
    "def harris_detect(imgfile, s = 8.0):\n",
    "    plt.rcParams['figure.figsize'] = (s, s)\n",
    " \n",
    "    img = cv2.imread(imgfile)\n",
    "    \n",
    "    img_gray = cv2.cvtColor(img, cv2.COLOR_BGR2GRAY)\n",
    "\n",
    "    ptimg = cv2.cornerHarris(img_gray, 2, 3, 0.04)\n",
    "\n",
    "    idx = np.where(ptimg > 0.01 * ptimg.max())\n",
    "\n",
    "    pt = [cv2.KeyPoint(x, y, 1) for (x, y) in zip(idx[1], idx[0])]\n",
    "\n",
    "    img2 = cv2.drawKeypoints(img, pt, None, color = (0, 0, 255))\n",
    "\n",
    "    plt.imshow(cv2.cvtColor(img2, cv2.COLOR_BGR2RGB))"
   ]
  },
  {
   "cell_type": "code",
   "execution_count": null,
   "metadata": {},
   "outputs": [],
   "source": [
    "detect(cv2.FastFeatureDetector_create(), 'img/01.jpg')"
   ]
  },
  {
   "cell_type": "code",
   "execution_count": null,
   "metadata": {},
   "outputs": [],
   "source": [
    "detect(cv2.AgastFeatureDetector_create(), 'img/01.jpg')"
   ]
  },
  {
   "cell_type": "code",
   "execution_count": null,
   "metadata": {},
   "outputs": [],
   "source": [
    "detect(cv2.AgastFeatureDetector_create(threshold = 20), 'img/01.jpg')"
   ]
  },
  {
   "cell_type": "code",
   "execution_count": null,
   "metadata": {},
   "outputs": [],
   "source": [
    "harris_detect('img/01.jpg')"
   ]
  }
 ],
 "metadata": {
  "kernelspec": {
   "display_name": "Python 3",
   "language": "python",
   "name": "python3"
  },
  "language_info": {
   "codemirror_mode": {
    "name": "ipython",
    "version": 3
   },
   "file_extension": ".py",
   "mimetype": "text/x-python",
   "name": "python",
   "nbconvert_exporter": "python",
   "pygments_lexer": "ipython3",
   "version": "3.6.5"
  }
 },
 "nbformat": 4,
 "nbformat_minor": 2
}
