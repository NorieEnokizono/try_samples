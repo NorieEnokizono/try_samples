{
 "cells": [
  {
   "cell_type": "code",
   "execution_count": null,
   "metadata": {},
   "outputs": [],
   "source": [
    "%matplotlib inline\n",
    "\n",
    "import numpy as np\n",
    "import cv2\n",
    "import matplotlib.pyplot as plt\n"
   ]
  },
  {
   "cell_type": "code",
   "execution_count": null,
   "metadata": {},
   "outputs": [],
   "source": [
    "def fourier(file, filterfunc):\n",
    "    img = cv2.imread(file, 0)\n",
    "\n",
    "    ft = cv2.dft(np.float32(img), flags = cv2.DFT_COMPLEX_OUTPUT)\n",
    "    ft_shift = np.fft.fftshift(ft)\n",
    "\n",
    "    ut_shift = filterfunc(ft_shift.copy())\n",
    "\n",
    "    ut_ishift = np.fft.ifftshift(ut_shift)\n",
    "    ut = cv2.idft(ut_ishift)\n",
    "\n",
    "    return cv2.magnitude(ut[:, :, 0], ut[:, :, 1])"
   ]
  },
  {
   "cell_type": "code",
   "execution_count": null,
   "metadata": {},
   "outputs": [],
   "source": [
    "def highpath_filter(h_size):\n",
    "    def filter(ft):\n",
    "        w = ft.shape[1]\n",
    "        h = ft.shape[0]\n",
    "    \n",
    "        cx = int(w / 2)\n",
    "        cy = int(h / 2)\n",
    "\n",
    "        return cv2.circle(ft.copy(), (cx, cy), h_size, [0, 0], -1)\n",
    "    \n",
    "    return filter\n",
    "\n",
    "\n",
    "def lowpath_filter(l_size):\n",
    "    def filter(ft):\n",
    "        w = ft.shape[1]\n",
    "        h = ft.shape[0]\n",
    "    \n",
    "        cx = int(w / 2)\n",
    "        cy = int(h / 2)\n",
    "    \n",
    "        mask = np.zeros(ft.shape, np.uint8)\n",
    "        mask = cv2.circle(mask, (cx, cy), l_size, [1, 1], -1)\n",
    "        \n",
    "        return ft * mask\n",
    "    \n",
    "    return filter\n",
    "\n",
    "\n",
    "def bandpath_filter(h_size, l_size):\n",
    "    high = highpath_filter(h_size)\n",
    "    low = lowpath_filter(l_size)\n",
    "    \n",
    "    return lambda ft: high(low(ft))\n",
    "    "
   ]
  },
  {
   "cell_type": "code",
   "execution_count": null,
   "metadata": {},
   "outputs": [],
   "source": [
    "plt.imshow(fourier('img/01.jpg', highpath_filter(4)), cmap = 'gray')"
   ]
  },
  {
   "cell_type": "code",
   "execution_count": null,
   "metadata": {},
   "outputs": [],
   "source": [
    "plt.imshow(fourier('img/01.jpg', lowpath_filter(20)), cmap = 'gray')"
   ]
  },
  {
   "cell_type": "code",
   "execution_count": null,
   "metadata": {},
   "outputs": [],
   "source": [
    "plt.imshow(fourier('img/01.jpg', bandpath_filter(4, 20)), cmap = 'gray')"
   ]
  }
 ],
 "metadata": {
  "kernelspec": {
   "display_name": "Python 3",
   "language": "python",
   "name": "python3"
  },
  "language_info": {
   "codemirror_mode": {
    "name": "ipython",
    "version": 3
   },
   "file_extension": ".py",
   "mimetype": "text/x-python",
   "name": "python",
   "nbconvert_exporter": "python",
   "pygments_lexer": "ipython3",
   "version": "3.6.5"
  }
 },
 "nbformat": 4,
 "nbformat_minor": 2
}
