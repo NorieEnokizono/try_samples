{
 "cells": [
  {
   "cell_type": "code",
   "execution_count": null,
   "metadata": {},
   "outputs": [],
   "source": [
    "def f(u, c = 4):\n",
    "    return c * u\n",
    "\n",
    "def q(probs, u):\n",
    "    return sum(probs[u:])\n",
    "\n",
    "def pt(probs, j, s, a):\n",
    "    if j <= s + a:\n",
    "        return probs[s + a - j]\n",
    "    elif j == 0:\n",
    "        return q(probs, s + a)\n",
    "    \n",
    "    return 0\n",
    "\n",
    "def F(probs, s, a):\n",
    "    return sum([f(i) * probs[i] for i in range(s + a + 1)]) + f(s + a) * q(probs, s + a + 1)\n",
    "\n",
    "# orders cost\n",
    "def O(a, k = 4, c = 2):\n",
    "    return 0 if a == 0 else k + c * a\n",
    "\n",
    "# inventory cost\n",
    "def h(u, c = 1.5):\n",
    "    return u * c\n",
    "\n",
    "# reward\n",
    "def r(probs, s, a):\n",
    "    return F(probs, s, a) - O(a) - h(s + a)\n"
   ]
  },
  {
   "cell_type": "code",
   "execution_count": null,
   "metadata": {},
   "outputs": [],
   "source": [
    "def value_plan(probs, gamma = 0.9, threshold = 0.0001):\n",
    "    max_stock = len(probs) - 1\n",
    "\n",
    "    actions = range(max_stock + 1)\n",
    "    states = range(max_stock + 1)\n",
    "    \n",
    "    v = {s: 0 for s in states}\n",
    "    \n",
    "    value = lambda s, a: r(probs, s, a) + sum([\n",
    "        gamma * v[j] * pt(probs, j, s, a) \n",
    "        for j in range(s + a + 1)\n",
    "    ])\n",
    "    \n",
    "    while True:\n",
    "        delta = 0\n",
    "        \n",
    "        for s in v:\n",
    "            max_reward = max([value(s, a) for a in actions if s + a <= max_stock])\n",
    "            \n",
    "            delta = max(delta, abs(max_reward - v[s]))\n",
    "            \n",
    "            v[s] = max_reward\n",
    "        \n",
    "        if delta < threshold:\n",
    "            break\n",
    "    \n",
    "    return v"
   ]
  },
  {
   "cell_type": "code",
   "execution_count": null,
   "metadata": {},
   "outputs": [],
   "source": [
    "p1 = [0.2, 0.5, 0.2, 0.1, 0.0]\n",
    "\n",
    "for s in range(len(p1)):\n",
    "    for a in range(len(p1)):\n",
    "        if s + a <= len(p1) - 1:\n",
    "            print(f's = {s}, a = {a}, r = {r(p1, s, a)}')"
   ]
  },
  {
   "cell_type": "code",
   "execution_count": null,
   "metadata": {},
   "outputs": [],
   "source": [
    "value_plan(p1)"
   ]
  }
 ],
 "metadata": {
  "kernelspec": {
   "display_name": "Python 3",
   "language": "python",
   "name": "python3"
  },
  "language_info": {
   "codemirror_mode": {
    "name": "ipython",
    "version": 3
   },
   "file_extension": ".py",
   "mimetype": "text/x-python",
   "name": "python",
   "nbconvert_exporter": "python",
   "pygments_lexer": "ipython3",
   "version": "3.6.5"
  }
 },
 "nbformat": 4,
 "nbformat_minor": 2
}
