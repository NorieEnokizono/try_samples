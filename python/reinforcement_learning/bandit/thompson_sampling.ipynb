{
 "cells": [
  {
   "cell_type": "code",
   "execution_count": null,
   "metadata": {},
   "outputs": [],
   "source": [
    "import numpy as np\n",
    "\n",
    "def thompson_sampling(arms, n = 1000):\n",
    "    states = [(0, 0) for _ in arms]\n",
    "    action = lambda: np.argmax([np.random.beta(s[0] + 1, s[1] + 1) for s in states])\n",
    "    \n",
    "    for _ in range(n):\n",
    "        a = action()\n",
    "        r = 1 if np.random.rand() < arms[a] else 0\n",
    "        \n",
    "        states[a] = (states[a][0] + r, states[a][1] + 1 - r)\n",
    "    \n",
    "    return states"
   ]
  },
  {
   "cell_type": "code",
   "execution_count": null,
   "metadata": {},
   "outputs": [],
   "source": [
    "def print_sampling(arms, n = 1000):\n",
    "    for s in thompson_sampling(arms, n):\n",
    "        print(f'win: {s[0]}, lose: {s[1]}, p: {s[0] / sum(s)}')    "
   ]
  },
  {
   "cell_type": "code",
   "execution_count": null,
   "metadata": {},
   "outputs": [],
   "source": [
    "print_sampling([0.2, 0.5, 0.7])"
   ]
  },
  {
   "cell_type": "code",
   "execution_count": null,
   "metadata": {},
   "outputs": [],
   "source": [
    "print_sampling([0.2, 0.5, 0.7], 100)"
   ]
  },
  {
   "cell_type": "code",
   "execution_count": null,
   "metadata": {},
   "outputs": [],
   "source": [
    "print_sampling([0.2, 0.5, 0.7], 5000)"
   ]
  },
  {
   "cell_type": "code",
   "execution_count": null,
   "metadata": {},
   "outputs": [],
   "source": [
    "print_sampling([0.1, 0.2, 0.7, 0.8])"
   ]
  }
 ],
 "metadata": {
  "kernelspec": {
   "display_name": "Python 3",
   "language": "python",
   "name": "python3"
  },
  "language_info": {
   "codemirror_mode": {
    "name": "ipython",
    "version": 3
   },
   "file_extension": ".py",
   "mimetype": "text/x-python",
   "name": "python",
   "nbconvert_exporter": "python",
   "pygments_lexer": "ipython3",
   "version": "3.6.5"
  }
 },
 "nbformat": 4,
 "nbformat_minor": 2
}
